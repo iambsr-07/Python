{
 "cells": [
  {
   "cell_type": "code",
   "execution_count": null,
   "metadata": {},
   "outputs": [],
   "source": [
    "\n",
    "# program to comvert celsius to farehneit and vice versa ==>\n",
    "op=(input(\"enter c for changing temerature to celsius and f for changing to farenheit ====>\"))\n",
    "if op ==\"c\":\n",
    "    c=float(input(\"enter your temperature in farehneit ==>\"))\n",
    "    f = ((9* c/5)+32)\n",
    "    print(f)\n",
    "else :\n",
    "    if op==\"f\":\n",
    "        f=float(input(\"enter your temperature in celsius ==>\"))\n",
    "        c = ((f -32) * (5/9))\n",
    "        print(c)\n",
    "print(\"galat dala hai shi kar\")\n",
    " "
   ]
  }
 ],
 "metadata": {
  "kernelspec": {
   "display_name": "Python 3",
   "language": "python",
   "name": "python3"
  },
  "language_info": {
   "name": "python",
   "version": "3.11.0 (main, Oct 24 2022, 18:26:48) [MSC v.1933 64 bit (AMD64)]"
  },
  "orig_nbformat": 4,
  "vscode": {
   "interpreter": {
    "hash": "b6486d4b6c57b19583e9d0c47510e2d8c0c0f47bde759015cf22c5139ee6d241"
   }
  }
 },
 "nbformat": 4,
 "nbformat_minor": 2
}
