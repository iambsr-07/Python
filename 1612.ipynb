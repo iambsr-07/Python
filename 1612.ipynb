{
 "cells": [
  {
   "cell_type": "code",
   "execution_count": null,
   "metadata": {},
   "outputs": [],
   "source": [
    "# Python 3 program to find\n",
    "# n'th term in look and\n",
    "# say sequence\n",
    "\n",
    "# Returns n'th term in\n",
    "# look-and-say sequence\n",
    "def countnndSay(n):\n",
    "\t\n",
    "\t# Base cases\n",
    "\tif (n == 1):\n",
    "\t\treturn \"1\"\n",
    "\tif (n == 2):\n",
    "\t\treturn \"11\"\n",
    "\n",
    "\t# Find n'th term by generating\n",
    "\t# all terms from 3 to n-1.\n",
    "\t# Every term is generated using\n",
    "\t# previous term\n",
    "\t\n",
    "\t# Initialize previous term\n",
    "\ts = \"11\"\n",
    "\tfor i in range(3, n + 1):\n",
    "\t\t\n",
    "\t\t# In below for loop,\n",
    "\t\t# previous character is\n",
    "\t\t# processed in current\n",
    "\t\t# iteration. That is why\n",
    "\t\t# a dummy character is\n",
    "\t\t# added to make sure that\n",
    "\t\t# loop runs one extra iteration.\n",
    "\t\ts += '$'\n",
    "\t\tl = len(s)\n",
    "\n",
    "\t\tcnt = 1 # Initialize count\n",
    "\t\t\t\t# of matching chars\n",
    "\t\ttmp = \"\" # Initialize i'th\n",
    "\t\t\t\t# term in series\n",
    "\n",
    "\t\t# Process previous term to\n",
    "\t\t# find the next term\n",
    "\t\tfor j in range(1 , l):\n",
    "\t\t\t\n",
    "\t\t\t# If current character\n",
    "\t\t\t# doesn't match\n",
    "\t\t\tif (s[j] != s[j - 1]):\n",
    "\t\t\t\t\n",
    "\t\t\t\t# Append count of\n",
    "\t\t\t\t# str[j-1] to temp\n",
    "\t\t\t\ttmp += str(cnt + 0)\n",
    "\n",
    "\t\t\t\t# Append str[j-1]\n",
    "\t\t\t\ttmp += s[j - 1]\n",
    "\n",
    "\t\t\t\t# Reset count\n",
    "\t\t\t\tcnt = 1\n",
    "\t\t\t\n",
    "\t\t\t# If matches, then increment\n",
    "\t\t\t# count of matching characters\n",
    "\t\t\telse:\n",
    "\t\t\t\tcnt += 1\n",
    "\n",
    "\t\t# Update str\n",
    "\t\ts = tmp\n",
    "\treturn s;\n",
    "\n",
    "# Driver Code\n",
    "N = 3\n",
    "print(countnndSay(N))\n",
    "\n",
    "\n"
   ]
  },
  {
   "cell_type": "code",
   "execution_count": null,
   "metadata": {},
   "outputs": [],
   "source": [
    "nths=int(input(\"enter two number  :\"))\n",
    "n1,n2=0,1\n",
    "count=0\n",
    "if nths<=0:\n",
    "    print(\"please enter positive  number :\")\n",
    "elif nths==1:\n",
    "    print(\"Fibonacci sequence upto\",nths,\":\")\n",
    "    print(n1)\n",
    "else:\n",
    "    print(\"fibonacci sequence:\")\n",
    "    while count < nths:\n",
    "        print(n1)\n",
    "        nth=n1+n2\n",
    "        n1=n2\n",
    "        n2=nth\n",
    "        count+=1\n"
   ]
  },
  {
   "cell_type": "code",
   "execution_count": 3,
   "metadata": {},
   "outputs": [
    {
     "ename": "SyntaxError",
     "evalue": "invalid syntax (2256348631.py, line 1)",
     "output_type": "error",
     "traceback": [
      "\u001b[1;36m  Cell \u001b[1;32mIn[3], line 1\u001b[1;36m\u001b[0m\n\u001b[1;33m    print(3+=5*=8-=5)\u001b[0m\n\u001b[1;37m           ^\u001b[0m\n\u001b[1;31mSyntaxError\u001b[0m\u001b[1;31m:\u001b[0m invalid syntax\n"
     ]
    }
   ],
   "source": [
    "\n",
    "print(3+=5*=8-=5)"
   ]
  },
  {
   "cell_type": "code",
   "execution_count": 9,
   "metadata": {},
   "outputs": [
    {
     "data": {
      "text/plain": [
       "False"
      ]
     },
     "execution_count": 9,
     "metadata": {},
     "output_type": "execute_result"
    }
   ],
   "source": [
    "(125 < 45.9)and(6*<=13)"
   ]
  },
  {
   "cell_type": "code",
   "execution_count": 4,
   "metadata": {},
   "outputs": [
    {
     "name": "stdout",
     "output_type": "stream",
     "text": [
      "8\n"
     ]
    }
   ],
   "source": [
    "print(59//7)"
   ]
  }
 ],
 "metadata": {
  "kernelspec": {
   "display_name": "Python 3",
   "language": "python",
   "name": "python3"
  },
  "language_info": {
   "codemirror_mode": {
    "name": "ipython",
    "version": 3
   },
   "file_extension": ".py",
   "mimetype": "text/x-python",
   "name": "python",
   "nbconvert_exporter": "python",
   "pygments_lexer": "ipython3",
   "version": "3.11.0 (main, Oct 24 2022, 18:26:48) [MSC v.1933 64 bit (AMD64)]"
  },
  "orig_nbformat": 4,
  "vscode": {
   "interpreter": {
    "hash": "b6486d4b6c57b19583e9d0c47510e2d8c0c0f47bde759015cf22c5139ee6d241"
   }
  }
 },
 "nbformat": 4,
 "nbformat_minor": 2
}
