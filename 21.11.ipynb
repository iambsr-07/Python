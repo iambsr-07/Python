{
 "cells": [
  {
   "cell_type": "code",
   "execution_count": null,
   "metadata": {},
   "outputs": [],
   "source": [
    " # PRINT PRIME NUMBER  FROM 1 TO 100 ======>\n",
    "\"\"\"\n",
    "print(\"prime 1\")\n",
    "print('prime 2')\n",
    "print('prime 3')\n",
    "print('prime 5')\n",
    "print('prime 7')\n",
    "for n in range(8,200):\n",
    "   if n%2!=0 and n%3!=0 and n%5!=0 and n%7!=0:\n",
    "    print(\"prime\",n) \"\"\"\n",
    "#above mention program is wrong\n",
    "\n",
    "# Python program to display all the prime numbers within an interval\n",
    "\n",
    "start = 1\n",
    "end = 150\n",
    "\n",
    "for num in range(start, end + 1):\n",
    "   \n",
    "   if num > 1:\n",
    "       for i in range(2, num):\n",
    "           if (num % i) == 0:\n",
    "               break\n",
    "       else:\n",
    "           print(num)"
   ]
  }
 ],
 "metadata": {
  "language_info": {
   "name": "python"
  },
  "orig_nbformat": 4
 },
 "nbformat": 4,
 "nbformat_minor": 2
}
