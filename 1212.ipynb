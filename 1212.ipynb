{
 "cells": [
  {
   "cell_type": "code",
   "execution_count": 18,
   "metadata": {},
   "outputs": [
    {
     "name": "stdout",
     "output_type": "stream",
     "text": [
      "initial string:\n",
      "bharat singh\n",
      "\n",
      "first character of string is:\n",
      "b\n",
      "bharat singh\n",
      "hgnis tarahb\n",
      "hgnis tarahb\n",
      "ha\n",
      "at sing\n"
     ]
    }
   ],
   "source": [
    "#String Sequence and  it's operations\n",
    "str1=\"bharat singh\"\n",
    "print(\"initial string:\")\n",
    "print(str1)\n",
    "print(\"\\nfirst character of string is:\")\n",
    "print(str1[0])\n",
    "print(str1[::1])\n",
    "print(str1[::-1])\n",
    "str=\"\".join(reversed(str1))\n",
    "print(str)\n",
    "print(str1[1:3])\n",
    "print(str1[4:-1])"
   ]
  },
  {
   "cell_type": "code",
   "execution_count": 22,
   "metadata": {},
   "outputs": [
    {
     "name": "stdout",
     "output_type": "stream",
     "text": [
      "singh\n"
     ]
    }
   ],
   "source": [
    "# in python string are immutable ===>\n",
    "x=\"bharat\"\n",
    "# x[0]=\"n\"\n",
    "x=\"singh\"\n",
    "print(x)"
   ]
  },
  {
   "cell_type": "code",
   "execution_count": 1,
   "metadata": {},
   "outputs": [
    {
     "ename": "IndexError",
     "evalue": "Replacement index 3 out of range for positional args tuple",
     "output_type": "error",
     "traceback": [
      "\u001b[1;31m---------------------------------------------------------------------------\u001b[0m",
      "\u001b[1;31mIndexError\u001b[0m                                Traceback (most recent call last)",
      "Cell \u001b[1;32mIn[1], line 2\u001b[0m\n\u001b[0;32m      1\u001b[0m string1\u001b[39m=\u001b[39m\u001b[39m\"\u001b[39m\u001b[39mbharat singh\u001b[39m\u001b[39m\"\u001b[39m\n\u001b[1;32m----> 2\u001b[0m string1\u001b[39m=\u001b[39m\u001b[39m\"\u001b[39;49m\u001b[39m{2}\u001b[39;49;00m\u001b[39m{1}\u001b[39;49;00m\u001b[39m{3}\u001b[39;49;00m\u001b[39m\"\u001b[39;49m\u001b[39m.\u001b[39;49mformat(\u001b[39m\"\u001b[39;49m\u001b[39mbharat\u001b[39;49m\u001b[39m\"\u001b[39;49m,\u001b[39m\"\u001b[39;49m\u001b[39msingh\u001b[39;49m\u001b[39m\"\u001b[39;49m,\u001b[39m\"\u001b[39;49m\u001b[39mraghuvanshi\u001b[39;49m\u001b[39m\"\u001b[39;49m)\n",
      "\u001b[1;31mIndexError\u001b[0m: Replacement index 3 out of range for positional args tuple"
     ]
    }
   ],
   "source": [
    "string1=\"bharat singh\"\n",
    "string1=\"{2}{1}{3}\".format(\"bharat\",\"singh\",\"raghuvanshi\")"
   ]
  },
  {
   "cell_type": "code",
   "execution_count": 27,
   "metadata": {},
   "outputs": [
    {
     "ename": "SyntaxError",
     "evalue": "Missing parentheses in call to 'print'. Did you mean print(...)? (1062458903.py, line 3)",
     "output_type": "error",
     "traceback": [
      "\u001b[1;36m  Cell \u001b[1;32mIn[27], line 3\u001b[1;36m\u001b[0m\n\u001b[1;33m    print i\u001b[0m\n\u001b[1;37m    ^\u001b[0m\n\u001b[1;31mSyntaxError\u001b[0m\u001b[1;31m:\u001b[0m Missing parentheses in call to 'print'. Did you mean print(...)?\n"
     ]
    }
   ],
   "source": [
    "i = 0\n",
    "while i < 3: \n",
    "    print i \n",
    "    i += 1\n",
    "else: \n",
    "    print 0"
   ]
  }
 ],
 "metadata": {
  "kernelspec": {
   "display_name": "Python 3",
   "language": "python",
   "name": "python3"
  },
  "language_info": {
   "codemirror_mode": {
    "name": "ipython",
    "version": 3
   },
   "file_extension": ".py",
   "mimetype": "text/x-python",
   "name": "python",
   "nbconvert_exporter": "python",
   "pygments_lexer": "ipython3",
   "version": "3.11.0 (main, Oct 24 2022, 18:26:48) [MSC v.1933 64 bit (AMD64)]"
  },
  "orig_nbformat": 4,
  "vscode": {
   "interpreter": {
    "hash": "b6486d4b6c57b19583e9d0c47510e2d8c0c0f47bde759015cf22c5139ee6d241"
   }
  }
 },
 "nbformat": 4,
 "nbformat_minor": 2
}
