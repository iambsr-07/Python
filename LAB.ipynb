{
 "cells": [
  {
   "cell_type": "code",
   "execution_count": 1,
   "metadata": {},
   "outputs": [
    {
     "name": "stdout",
     "output_type": "stream",
     "text": [
      "fibonacci sequence:\n",
      "0\n",
      "1\n",
      "1\n",
      "2\n",
      "3\n"
     ]
    }
   ],
   "source": [
    "#  1=====> Fibonacci series  upto  10 terms\n",
    "nths=int(input(\"enter two number  :\"))\n",
    "n1,n2=0,1\n",
    "count=0\n",
    "if nths<=0:\n",
    "    print(\"please enter positive  number :\")\n",
    "elif nths==1:\n",
    "    print(\"Fibonacci sequence upto\",nths,\":\")\n",
    "    print(n1)\n",
    "else:\n",
    "    print(\"fibonacci sequence:\")\n",
    "    while count < nths:\n",
    "        print(n1)\n",
    "        nth=n1+n2\n",
    "        n1=n2\n",
    "        n2=nth\n",
    "        count+=1"
   ]
  },
  {
   "cell_type": "code",
   "execution_count": null,
   "metadata": {},
   "outputs": [],
   "source": [
    "# 3====> WAP  a  program in python  to  calculate  the  sum  of series  \n",
    "n=int(input(\" enter maxinmum  number  of  the  series ===>\"))\n",
    "sum=0\n",
    "for  i in range(1,n):\n",
    "    b=(i**2)\n",
    "    sum = sum + b\n",
    "    print(sum)"
   ]
  },
  {
   "cell_type": "code",
   "execution_count": null,
   "metadata": {},
   "outputs": [],
   "source": [
    "#  4====> WAP  to check  for the year  is  leap  year or  not==>\n",
    "year=int(input(\"enter  the  year you want to check ===>\"))\n",
    "if (year)%4==0:\n",
    "    print(\"the  year  is leap  year ==>\")\n",
    "else:\n",
    "    print(\"the year is not a leap year\")\n"
   ]
  },
  {
   "cell_type": "code",
   "execution_count": null,
   "metadata": {},
   "outputs": [],
   "source": [
    "# 5 =====> WAP to print strong number from 1 to 100:\n",
    "for num in range(1,101):\n",
    "    temp=num\n",
    "    add=0\n",
    "    while (num) :\n",
    "        r=num%10\n",
    "        fact=1\n",
    "        while (r):\n",
    "            fact=fact*r\n",
    "            r=r-1\n",
    "        add=add+fact\n",
    "        num=num//10\n",
    "    if add==temp:\n",
    "        print (temp, \"is a strong number.\")\n"
   ]
  },
  {
   "cell_type": "code",
   "execution_count": null,
   "metadata": {},
   "outputs": [],
   "source": [
    "# 6 =====> WAP to execute bubble sort  example ===>\n",
    "def bubblesort(elements):\n",
    "\tswapped = False\n",
    "\t# Looping from size of array from last index[-1] to index [0]\n",
    "\tfor n in range(len(elements)-1, 0, -1):\n",
    "\t\tfor i in range(n):\n",
    "\t\t\tif elements[i] > elements[i + 1]:\n",
    "\t\t\t\tswapped = True\n",
    "\t\t\t\t# swapping data if the element is less than next element in the array\n",
    "\t\t\t\telements[i], elements[i + 1] = elements[i + 1], elements[i]\t\n",
    "\t\tif not swapped:\n",
    "\t\t\t# exiting the function if we didn't make a single swap\n",
    "\t\t\t# meaning that the array is already sorted.\n",
    "\t\t\treturn\n",
    "\n",
    "elements = [39, 12, 18, 85, 72, 10, 2, 18]\n",
    "\n",
    "print(\"Unsorted list is,\")\n",
    "print(elements)\n",
    "bubblesort(elements)\n",
    "print(\"Sorted Array is, \")\n",
    "print(elements)\n"
   ]
  },
  {
   "cell_type": "code",
   "execution_count": null,
   "metadata": {},
   "outputs": [],
   "source": [
    "# 7 ====> WAP to check whether number is  prime or not\n",
    "start = 1\n",
    "end = 150\n",
    "\n",
    "for num in range(start, end + 1):\n",
    "   \n",
    "   if num > 1:\n",
    "       for i in range(2, num):\n",
    "           if (num % i) == 0:\n",
    "               break\n",
    "       else:\n",
    "           print(num)"
   ]
  },
  {
   "cell_type": "code",
   "execution_count": null,
   "metadata": {},
   "outputs": [],
   "source": [
    "# 8 ====> WAP to check  if  string  is  palindrome  or  not\n",
    "\n",
    "def isPalindrome(s):\n",
    "\treturn s == s[::-1]\n",
    "\n",
    "s = \"malayalam\"\n",
    "ans = isPalindrome(s)\n",
    "\n",
    "if ans:\n",
    "\tprint(\"Yes\")\n",
    "else:\n",
    "\tprint(\"No\")\n"
   ]
  },
  {
   "cell_type": "code",
   "execution_count": null,
   "metadata": {},
   "outputs": [],
   "source": [
    "# 9 ===>Write  a  program  in  Python  to  take  input  of  two  names  and  check  whether  both names are same or not. Do not use any function.\n",
    "\n",
    "name1 = input(\"Enter first name: \")\n",
    "name2 = input(\"Enter second name: \")\n",
    "\n",
    "if name1 == name2:\n",
    "    print(\"Both names are same\")\n",
    "else:\n",
    "    print(\"Both names are not same\")"
   ]
  },
  {
   "cell_type": "code",
   "execution_count": null,
   "metadata": {},
   "outputs": [],
   "source": [
    "# 10 ===> Write a program in Python to check if the Given List is in Ascending Order or Not.\n",
    "\n",
    "# Sample list\n",
    "list1 = [3,7,5,1]\n",
    "\n",
    "# Initializing flag\n",
    "flag = 0\n",
    "\n",
    "# Checking list in ascending order\n",
    "for i in range(len(list1)-1):\n",
    "    if list1[i] > list1[i+1]:\n",
    "        flag = 1\n",
    "        break\n",
    "\n",
    "# Printing result\n",
    "if flag == 0:\n",
    "    print(\"List is in ascending order\")\n",
    "else:\n",
    "    print(\"List is not in ascending order\")"
   ]
  },
  {
   "cell_type": "code",
   "execution_count": null,
   "metadata": {},
   "outputs": [],
   "source": [
    "# 11===> Write a program in Python to Interchange First and Last Element of a List\n",
    "\n",
    "list1=[1,2,3,4,5]\n",
    " \n",
    "first=list1[0]\n",
    "last=list1[-1]\n",
    "list1[0]=last\n",
    "list1[-1]=first\n",
    " \n",
    "print(\"List after swapping first and last element:\",list1)"
   ]
  },
  {
   "cell_type": "code",
   "execution_count": 1,
   "metadata": {},
   "outputs": [
    {
     "name": "stdout",
     "output_type": "stream",
     "text": [
      "Subtracted string is:  is awesome\n"
     ]
    }
   ],
   "source": [
    "#12 ===> Write a program in Python to Subtract an entered string from a string.\n",
    "\n",
    "# strings\n",
    "str1 = \"Python is awesome\"\n",
    "str2 = \"Python\"\n",
    "\n",
    "#Solution\n",
    "str1 = \"Python is awesome\"\n",
    "str2 = \"Python\"\n",
    "\n",
    "res = str1.replace(str2, \"\")\n",
    "print(\"Subtracted string is:\", res)"
   ]
  },
  {
   "cell_type": "code",
   "execution_count": null,
   "metadata": {},
   "outputs": [],
   "source": [
    "# 13 ===> WAP to print area of circle, cube,sphere, cylinder ---> define using function\n",
    "  \n",
    "import math\n",
    "  \n",
    "def area_of_the_circle (Radius):   \n",
    "    area = Radius** 2 * math.pi  \n",
    "    return area  \n",
    "def area_of_the_cube (length):   \n",
    "    area = 6* (length **2)  \n",
    "    return area  \n",
    "def area_of_the_cylinder (Radius , height):   \n",
    "    area = Radius * 2 * math.pi * height\n",
    "    return area  \n",
    "def area_of_the_sphere (Radius):   \n",
    "    area = 4 *(Radius** 2 )* math.pi\n",
    "    return area  \n",
    "\n",
    "ch=input(\"enter \")\n",
    "\n",
    "if ch ==\"circle\" :\n",
    "    Radius = float (input (\"Please enter the radius of the given circle: \"))  \n",
    "    print (\" The area of the given circle is: \", area_of_the_circle (Radius))  \n",
    "\n",
    "\n",
    "elif ch == \"cube\":\n",
    "    length = float(input(\" Please enter the length of the cube side ===>\"))\n",
    "    print(\"the area of the given cube is :\",area_of_the_cube (length))\n",
    "\n",
    "\n",
    "elif ch ==\"cylinder\":\n",
    "    Radius = float (input (\"Please enter the radius of the given cylinder: \"))  \n",
    "    height = float (input (\"Please enter the height of the given cylinder: \"))  \n",
    "    print (\" The area of the given circle is: \", area_of_the_cylinder (Radius,height))\n",
    "\n",
    "\n",
    "elif ch ==\"sphere\":\n",
    "    Radius = float (input (\"Please enter the radius of the given sphere: \"))  \n",
    "    print(\"the  area of the given sphere is :\" ,area_of_the_sphere(Radius))\n",
    "\n",
    "\n"
   ]
  },
  {
   "cell_type": "code",
   "execution_count": 2,
   "metadata": {},
   "outputs": [
    {
     "ename": "ValueError",
     "evalue": "invalid literal for int() with base 10: ''",
     "output_type": "error",
     "traceback": [
      "\u001b[1;31m---------------------------------------------------------------------------\u001b[0m",
      "\u001b[1;31mValueError\u001b[0m                                Traceback (most recent call last)",
      "Cell \u001b[1;32mIn[2], line 5\u001b[0m\n\u001b[0;32m      3\u001b[0m n \u001b[39m=\u001b[39m \u001b[39mint\u001b[39m(\u001b[39minput\u001b[39m(\u001b[39m\"\u001b[39m\u001b[39mEnter the number of elements to be inserted in list: \u001b[39m\u001b[39m\"\u001b[39m))\n\u001b[0;32m      4\u001b[0m \u001b[39mfor\u001b[39;00m i \u001b[39min\u001b[39;00m \u001b[39mrange\u001b[39m(\u001b[39m0\u001b[39m,n):\n\u001b[1;32m----> 5\u001b[0m \tele \u001b[39m=\u001b[39m \u001b[39mint\u001b[39;49m(\u001b[39minput\u001b[39;49m())\n\u001b[0;32m      6\u001b[0m \tlst\u001b[39m.\u001b[39mappend(ele)\n\u001b[0;32m      7\u001b[0m \u001b[39mprint\u001b[39m(\u001b[39m\"\u001b[39m\u001b[39mList elements before reversing: \u001b[39m\u001b[39m\"\u001b[39m,lst)\n",
      "\u001b[1;31mValueError\u001b[0m: invalid literal for int() with base 10: ''"
     ]
    }
   ],
   "source": [
    "# 14 ==> Write a program in Python to take inputs from keyboard into a list and print reverse all elements. Do same with Tuple as well.\n",
    "lst = []\n",
    "n = int(input(\"Enter the number of elements to be inserted in list: \"))\n",
    "for i in range(0,n):\n",
    "\tele = int(input())\n",
    "\tlst.append(ele)\n",
    "print(\"List elements before reversing: \",lst)\n",
    "lst.reverse()\n",
    "print(\"List elements after reversing: \",lst)\n",
    "\n",
    "# for  tuple\n",
    "tup = () \n",
    "\n",
    "# Get the number of elements to be added \n",
    "n = int(input(\"Enter the number of elements to be added in the tuple: \")) \n",
    "\n",
    "# Append elements to the tuple \n",
    "for i in range(0, n): \n",
    "\telements = input(\"Enter element: \") \n",
    "\ttup = tup + (elements,) \n",
    "print(tup)\n",
    "\n",
    "\n",
    "reverse_tuple1 = tup[::-1]\n",
    "\n",
    "print(\"Reverse of the given tuple:\", reverse_tuple1)"
   ]
  },
  {
   "cell_type": "code",
   "execution_count": 3,
   "metadata": {},
   "outputs": [],
   "source": [
    "lst = []\n",
    "n = int(input(\"Enter the number of elements to be inserted in list: \"))\n",
    "for i in range(0,n):\n",
    "\tele = int(input())\n",
    "\tlst.append(ele)\n",
    "print(\"List elements before reversing: \",lst)\n",
    "lst.reverse()\n",
    "print(\"List elements after reversing: \",lst)\n"
   ]
  },
  {
   "cell_type": "code",
   "execution_count": null,
   "metadata": {},
   "outputs": [],
   "source": [
    " # 15 ===> Define a python function in a program to check whether a number is an Armstrong number or not.\n",
    "\n",
    "def isArmstrong(num):\n",
    "    # Initializing sum and number of digits\n",
    "    sum = 0\n",
    "    n = len(str(num))\n",
    " \n",
    "    # Calculate sum of power of each digit\n",
    "    temp = num\n",
    "    while temp > 0:\n",
    "        d = temp % 10\n",
    "        sum += d ** n\n",
    "        temp //= 10\n",
    " \n",
    "    # Return true if number is Armstrong\n",
    "    if num == sum:\n",
    "        return True\n",
    "    else:\n",
    "        return False\n",
    " \n",
    "# Driver Program\n",
    "num = int(input(\"Enter a number: \"))\n",
    "if isArmstrong(num):\n",
    "    print(num,\"is an Armstrong number\")\n",
    "else:\n",
    "    print(num,\"is not an Armstrong number\")"
   ]
  }
 ],
 "metadata": {
  "kernelspec": {
   "display_name": "Python 3.11.0 64-bit",
   "language": "python",
   "name": "python3"
  },
  "language_info": {
   "codemirror_mode": {
    "name": "ipython",
    "version": 3
   },
   "file_extension": ".py",
   "mimetype": "text/x-python",
   "name": "python",
   "nbconvert_exporter": "python",
   "pygments_lexer": "ipython3",
   "version": "3.11.0 (main, Oct 24 2022, 18:26:48) [MSC v.1933 64 bit (AMD64)]"
  },
  "orig_nbformat": 4,
  "vscode": {
   "interpreter": {
    "hash": "b6486d4b6c57b19583e9d0c47510e2d8c0c0f47bde759015cf22c5139ee6d241"
   }
  }
 },
 "nbformat": 4,
 "nbformat_minor": 2
}
