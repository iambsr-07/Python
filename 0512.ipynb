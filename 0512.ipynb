{
 "cells": [
  {
   "cell_type": "code",
   "execution_count": 8,
   "metadata": {},
   "outputs": [
    {
     "data": {
      "text/plain": [
       "5"
      ]
     },
     "execution_count": 8,
     "metadata": {},
     "output_type": "execute_result"
    }
   ],
   "source": [
    "def max(x,y,z):\n",
    "    if x>y:\n",
    "        if x>z:\n",
    "            return x\n",
    "            max(x)\n",
    "            print(\"x is  greater number\")\n",
    "        else:\n",
    "            return z\n",
    "            max(z)\n",
    "            print(\"z is  greater  number\")\n",
    "    else:\n",
    "        if  y>z:\n",
    "            return y\n",
    "            max(y)\n",
    "            print(\"y is  greater  number\")\n",
    "        else:\n",
    "            return z\n",
    "            max(z)\n",
    "            print(\"z is  greater  number\")\n",
    "\n",
    "max(2,5,1)"
   ]
  },
  {
   "cell_type": "code",
   "execution_count": null,
   "metadata": {},
   "outputs": [],
   "source": [
    "def temp():\n",
    "    print(\"bharat\")\n",
    "    temp()\n",
    "temp() \n",
    "\n",
    "def factorial(x):\n",
    "    if x == 1:\n",
    "        return 1\n",
    "    else:\n",
    "        return(x*factorial(x-1))\n",
    "\n",
    "x = 4\n",
    "print(\"the factorial of\", x ,\"is\", factorial(x))\n",
    "\n",
    "def power(x):\n",
    "    if x == 1:\n",
    "        return 1\n",
    "    else:\n",
    "        return(x**x)\n",
    "x = 4\n",
    "print(\"the power of\", x ,\"is\", power(x))"
   ]
  },
  {
   "cell_type": "code",
   "execution_count": 13,
   "metadata": {},
   "outputs": [
    {
     "ename": "SyntaxError",
     "evalue": "invalid syntax (895397123.py, line 3)",
     "output_type": "error",
     "traceback": [
      "\u001b[1;36m  Cell \u001b[1;32mIn[13], line 3\u001b[1;36m\u001b[0m\n\u001b[1;33m    def fun(1,x):\u001b[0m\n\u001b[1;37m            ^\u001b[0m\n\u001b[1;31mSyntaxError\u001b[0m\u001b[1;31m:\u001b[0m invalid syntax\n"
     ]
    }
   ],
   "source": [
    "def perfect(num):  \n",
    "    sum = 0  \n",
    "    def fun(1,x):  \n",
    "        if num % i == 0:  \n",
    "            sum=sum+i  \n",
    "            if sum == num  :\n",
    "                return(\"number  is  perfect\")\n",
    "        else:\n",
    "            return(\"not  perfect\")\n",
    "    print(fun(12))"
   ]
  },
  {
   "cell_type": "code",
   "execution_count": 5,
   "metadata": {},
   "outputs": [
    {
     "name": "stdout",
     "output_type": "stream",
     "text": [
      "the power of 4 is 256\n"
     ]
    }
   ],
   "source": [
    "def power(x):\n",
    "    if x == 1:\n",
    "        return 1\n",
    "    else:\n",
    "        return(x**x)\n",
    "x = 4\n",
    "print(\"the power of\", x ,\"is\", power(x))"
   ]
  },
  {
   "cell_type": "code",
   "execution_count": null,
   "metadata": {},
   "outputs": [],
   "source": [
    "def maximum(x,y,z):\n",
    "    if x>y:\n",
    "        if x>z:\n",
    "            return (x)\n",
    "            print(\"x is  greater number\")\n",
    "        else:\n",
    "            return (z)\n",
    "            print(\"z is  greater  number\")\n",
    "    else:\n",
    "        if  y>z:\n",
    "            return (y)\n",
    "            print(\"y is  greater  number\")\n",
    "        else:\n",
    "            return(z)\n",
    "            print(\"z is  greater  number\")\n",
    "\n",
    "    maximum(2,5,7)  "
   ]
  },
  {
   "cell_type": "code",
   "execution_count": null,
   "metadata": {},
   "outputs": [],
   "source": [
    "# wap to check  number is  perfect  or  not\n",
    "# 1+2+3=6\n",
    "def perfect(num):  \n",
    "    sum = 0  \n",
    "    for i in range(1, num):  \n",
    "        if num % i == 0:  \n",
    "            sum=sum+i  \n",
    "    return sum == num  \n",
    "print(perfect(45))"
   ]
  }
 ],
 "metadata": {
  "kernelspec": {
   "display_name": "Python 3.11.0 64-bit",
   "language": "python",
   "name": "python3"
  },
  "language_info": {
   "codemirror_mode": {
    "name": "ipython",
    "version": 3
   },
   "file_extension": ".py",
   "mimetype": "text/x-python",
   "name": "python",
   "nbconvert_exporter": "python",
   "pygments_lexer": "ipython3",
   "version": "3.11.0 (main, Oct 24 2022, 18:26:48) [MSC v.1933 64 bit (AMD64)]"
  },
  "orig_nbformat": 4,
  "vscode": {
   "interpreter": {
    "hash": "b6486d4b6c57b19583e9d0c47510e2d8c0c0f47bde759015cf22c5139ee6d241"
   }
  }
 },
 "nbformat": 4,
 "nbformat_minor": 2
}
