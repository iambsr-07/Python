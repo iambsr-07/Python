{
 "cells": [
  {
   "cell_type": "code",
   "execution_count": null,
   "metadata": {},
   "outputs": [],
   "source": [
    "# tupels  \n",
    "a =[12,5655,952,'bharat','singh'] #<--- list\n",
    "b =(12,12,2,55,55,6,12,5)   # <-----tuples\n",
    "print(a)\n",
    "print(b)\n",
    "print(max(b))\n",
    "print(type(a))\n",
    "a.insert(3,7 )\n",
    "print(len(b))\n",
    "print('maximum',max(b))\n",
    "print('minimum' ,min(b))\n",
    "print(sum(b))\n",
    "print(sorted(b))\n",
    "print(reversed(b))\n",
    "print(b[2])\n",
    "print(b[2:4])\n",
    "print(b.count('4'))\n",
    "print(b.index(55)) #<--- when object exist\n",
    "#print(b.index(33))# <---- when object is not present  \n",
    "print(2 in b)\n",
    "print(33 in b )\n",
    "print('bharat' in a )\n",
    "\n",
    "t1 =['c','d','dr']\n",
    "t2 = ['c','dr']\n",
    "t3 = t1 + t2\n",
    "print(min(t3))\n",
    "print(sum(b))\n",
    "# sum work only with the numericals/integers only.\n",
    "# nested list  \n",
    "ns1=[[2,232,1,3,1],54]\n",
    "ns2 = ([22,5,3],('bharat','singh'))"
   ]
  }
 ],
 "metadata": {
  "kernelspec": {
   "display_name": "Python 3",
   "language": "python",
   "name": "python3"
  },
  "language_info": {
   "name": "python",
   "version": "3.11.0 (main, Oct 24 2022, 18:26:48) [MSC v.1933 64 bit (AMD64)]"
  },
  "orig_nbformat": 4,
  "vscode": {
   "interpreter": {
    "hash": "b6486d4b6c57b19583e9d0c47510e2d8c0c0f47bde759015cf22c5139ee6d241"
   }
  }
 },
 "nbformat": 4,
 "nbformat_minor": 2
}
