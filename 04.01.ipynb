{
 "cells": [
  {
   "cell_type": "code",
   "execution_count": 1,
   "id": "702795ed",
   "metadata": {},
   "outputs": [
    {
     "name": "stdout",
     "output_type": "stream",
     "text": [
      "array('i', [2, 5, 6, 2, 5, 6, 8, 9, 3, 1, 8, 6, 2, 3, 7, 9])\n"
     ]
    }
   ],
   "source": [
    "# Slicing in an array\n",
    "import array as abc\n",
    "alist = [2,5,6,2,5,6,8,9,3,1,8,6,2,3,7,9]\n",
    "num = abc.array ('i',alist)\n",
    "print (num)"
   ]
  },
  {
   "cell_type": "code",
   "execution_count": 2,
   "id": "865df6f9",
   "metadata": {},
   "outputs": [
    {
     "ename": "TypeError",
     "evalue": "'array.array' object is not callable",
     "output_type": "error",
     "traceback": [
      "\u001b[1;31m---------------------------------------------------------------------------\u001b[0m",
      "\u001b[1;31mTypeError\u001b[0m                                 Traceback (most recent call last)",
      "Input \u001b[1;32mIn [2]\u001b[0m, in \u001b[0;36m<cell line: 1>\u001b[1;34m()\u001b[0m\n\u001b[1;32m----> 1\u001b[0m \u001b[38;5;28mprint\u001b[39m (\u001b[43mnum\u001b[49m\u001b[43m(\u001b[49m\u001b[38;5;241;43m5\u001b[39;49m\u001b[43m)\u001b[49m)\n",
      "\u001b[1;31mTypeError\u001b[0m: 'array.array' object is not callable"
     ]
    }
   ],
   "source": [
    "print (num(5)) # error []"
   ]
  },
  {
   "cell_type": "code",
   "execution_count": 22,
   "id": "43626597",
   "metadata": {},
   "outputs": [
    {
     "name": "stdout",
     "output_type": "stream",
     "text": [
      "6\n"
     ]
    }
   ],
   "source": [
    "print (num[5])"
   ]
  },
  {
   "cell_type": "code",
   "execution_count": 23,
   "id": "b258b719",
   "metadata": {},
   "outputs": [
    {
     "name": "stdout",
     "output_type": "stream",
     "text": [
      "array('i', [56, 23, 89, 12, 53, 23, 76])\n"
     ]
    }
   ],
   "source": [
    "# Changing and adding elements\n",
    "import array as abc\n",
    "alist = [56,23,89,12,53,23,76]\n",
    "num = abc.array ('i',alist)\n",
    "print (num)"
   ]
  },
  {
   "cell_type": "code",
   "execution_count": 24,
   "id": "13f4f18c",
   "metadata": {},
   "outputs": [
    {
     "name": "stdout",
     "output_type": "stream",
     "text": [
      "array('i', [9999, 23, 89, 12, 53, 23, 76])\n"
     ]
    }
   ],
   "source": [
    "num[0] = 9999 #updating first element or zeroth indexed element\n",
    "print (num)"
   ]
  },
  {
   "cell_type": "code",
   "execution_count": 25,
   "id": "b6844d67",
   "metadata": {},
   "outputs": [
    {
     "ename": "TypeError",
     "evalue": "array indices must be integers",
     "output_type": "error",
     "traceback": [
      "\u001b[1;31m---------------------------------------------------------------------------\u001b[0m",
      "\u001b[1;31mTypeError\u001b[0m                                 Traceback (most recent call last)",
      "Input \u001b[1;32mIn [25]\u001b[0m, in \u001b[0;36m<cell line: 1>\u001b[1;34m()\u001b[0m\n\u001b[1;32m----> 1\u001b[0m num[\u001b[38;5;241m5\u001b[39m,\u001b[38;5;241m6\u001b[39m] \u001b[38;5;241m=\u001b[39m \u001b[38;5;241m9090\u001b[39m, \u001b[38;5;241m1234\u001b[39m\n\u001b[0;32m      2\u001b[0m \u001b[38;5;28mprint\u001b[39m (num)\n",
      "\u001b[1;31mTypeError\u001b[0m: array indices must be integers"
     ]
    }
   ],
   "source": [
    "num[5,6] = 9090, 1234\n",
    "print (num)"
   ]
  },
  {
   "cell_type": "code",
   "execution_count": 26,
   "id": "57a9b974",
   "metadata": {},
   "outputs": [
    {
     "ename": "TypeError",
     "evalue": "can only assign array (not \"tuple\") to array slice",
     "output_type": "error",
     "traceback": [
      "\u001b[1;31m---------------------------------------------------------------------------\u001b[0m",
      "\u001b[1;31mTypeError\u001b[0m                                 Traceback (most recent call last)",
      "Input \u001b[1;32mIn [26]\u001b[0m, in \u001b[0;36m<cell line: 1>\u001b[1;34m()\u001b[0m\n\u001b[1;32m----> 1\u001b[0m num[\u001b[38;5;241m5\u001b[39m:\u001b[38;5;241m7\u001b[39m] \u001b[38;5;241m=\u001b[39m \u001b[38;5;241m9090\u001b[39m, \u001b[38;5;241m1234\u001b[39m, \u001b[38;5;241m5678\u001b[39m\n\u001b[0;32m      2\u001b[0m \u001b[38;5;28mprint\u001b[39m (num)\n",
      "\u001b[1;31mTypeError\u001b[0m: can only assign array (not \"tuple\") to array slice"
     ]
    }
   ],
   "source": [
    "num[5:7] = 9090, 1234, 5678\n",
    "print (num)"
   ]
  },
  {
   "cell_type": "code",
   "execution_count": 27,
   "id": "1adf1288",
   "metadata": {},
   "outputs": [
    {
     "name": "stdout",
     "output_type": "stream",
     "text": [
      "array('i', [9999, 23, 89, 12, 53, 9090, 1234, 5678])\n"
     ]
    }
   ],
   "source": [
    "num[5:7] = abc.array(\"i\", [9090, 1234, 5678])\n",
    "print (num)"
   ]
  },
  {
   "cell_type": "code",
   "execution_count": 28,
   "id": "99e72cb3",
   "metadata": {},
   "outputs": [
    {
     "name": "stdout",
     "output_type": "stream",
     "text": [
      "[45, 56, 54, 88]\n",
      "[45, 56, 54, 88, 90]\n"
     ]
    }
   ],
   "source": [
    "t = [45, 56, 54, 88]\n",
    "print (t)\n",
    "t.append (90)\n",
    "print (t)"
   ]
  },
  {
   "cell_type": "code",
   "execution_count": 29,
   "id": "cdf363ba",
   "metadata": {},
   "outputs": [
    {
     "name": "stdout",
     "output_type": "stream",
     "text": [
      "[45, 56, 54, 88, 90, 90]\n"
     ]
    }
   ],
   "source": [
    "t.append (90)\n",
    "print (t)"
   ]
  },
  {
   "cell_type": "code",
   "execution_count": 30,
   "id": "f54b357b",
   "metadata": {},
   "outputs": [
    {
     "name": "stdout",
     "output_type": "stream",
     "text": [
      "array('i', [1, 2, 3])\n"
     ]
    }
   ],
   "source": [
    "import array as xyz\n",
    "num = xyz.array ('i',[1,2,3])\n",
    "print (num)"
   ]
  },
  {
   "cell_type": "code",
   "execution_count": 31,
   "id": "9827ee60",
   "metadata": {},
   "outputs": [
    {
     "name": "stdout",
     "output_type": "stream",
     "text": [
      "array('i', [1, 2, 3, 6, 7, 9, 2])\n"
     ]
    }
   ],
   "source": [
    "num.append (6)\n",
    "num.append (7)\n",
    "num.append (9)\n",
    "num.append (2)\n",
    "print (num)"
   ]
  },
  {
   "cell_type": "code",
   "execution_count": 32,
   "id": "bb6bc282",
   "metadata": {},
   "outputs": [
    {
     "name": "stdout",
     "output_type": "stream",
     "text": [
      "array('i', [1, 2, 3, 6, 7, 9, 2, 99, 999, 9999])\n"
     ]
    }
   ],
   "source": [
    "# using extend () method\n",
    "num.extend ([99,999,9999])\n",
    "# extend () method appends iterable to the end of the array\n",
    "print (num)"
   ]
  },
  {
   "cell_type": "code",
   "execution_count": 33,
   "id": "41eb39b5",
   "metadata": {},
   "outputs": [
    {
     "name": "stdout",
     "output_type": "stream",
     "text": [
      "array('i', [1, 2, 3])\n",
      "array('i', [1, 2, 3, 99, 999, 9999])\n"
     ]
    }
   ],
   "source": [
    "import array as xyz\n",
    "num = xyz.array ('i',[1,2,3])\n",
    "print (num)\n",
    "# using extend () method\n",
    "num.extend ([99,999,9999])\n",
    "# extend () method appends iterable to the end of the array\n",
    "print (num)"
   ]
  },
  {
   "cell_type": "code",
   "execution_count": 34,
   "id": "fed2fe8f",
   "metadata": {},
   "outputs": [],
   "source": [
    "num.extend ([99,999,9999])"
   ]
  },
  {
   "cell_type": "code",
   "execution_count": 35,
   "id": "717f5c2a",
   "metadata": {},
   "outputs": [
    {
     "name": "stdout",
     "output_type": "stream",
     "text": [
      "array('i', [1, 2, 3, 99, 999, 9999, 99, 999, 9999])\n"
     ]
    }
   ],
   "source": [
    "print (num)"
   ]
  },
  {
   "cell_type": "code",
   "execution_count": 36,
   "id": "7c4d7f41",
   "metadata": {},
   "outputs": [
    {
     "name": "stdout",
     "output_type": "stream",
     "text": [
      "array('i', [1, 2, 3, 4, 5, 6, 7, 8, 9])\n"
     ]
    }
   ],
   "source": [
    "# Delete elements from an existing array\n",
    "import array as pqr\n",
    "x = pqr.array ('i',[1,2,3,4,5,6,7,8,9])\n",
    "print (x)"
   ]
  },
  {
   "cell_type": "code",
   "execution_count": 37,
   "id": "44859bac",
   "metadata": {},
   "outputs": [
    {
     "name": "stdout",
     "output_type": "stream",
     "text": [
      "array('i', [1, 2, 4, 5, 6, 7, 8, 9])\n"
     ]
    }
   ],
   "source": [
    "# deleting 3rd element\n",
    "del x[2] #0,1,2\n",
    "print (x)"
   ]
  },
  {
   "cell_type": "code",
   "execution_count": 38,
   "id": "3e359a00",
   "metadata": {},
   "outputs": [
    {
     "name": "stdout",
     "output_type": "stream",
     "text": [
      "array('i', [1, 2, 4, 5, 8, 9])\n"
     ]
    }
   ],
   "source": [
    "del x[4:6]\n",
    "print (x)"
   ]
  },
  {
   "cell_type": "code",
   "execution_count": 39,
   "id": "488fa1b7",
   "metadata": {},
   "outputs": [
    {
     "name": "stdout",
     "output_type": "stream",
     "text": [
      "array('i')\n"
     ]
    }
   ],
   "source": [
    "del x[:]  # delete all the elements\n",
    "print (x)"
   ]
  },
  {
   "cell_type": "code",
   "execution_count": 40,
   "id": "fa92013a",
   "metadata": {},
   "outputs": [
    {
     "name": "stdout",
     "output_type": "stream",
     "text": [
      "array('i', [5, 6, 7])\n"
     ]
    }
   ],
   "source": [
    "x.append (5)\n",
    "x.append (6)\n",
    "x.append (7)\n",
    "print (x)"
   ]
  },
  {
   "cell_type": "code",
   "execution_count": 41,
   "id": "4335c369",
   "metadata": {},
   "outputs": [
    {
     "ename": "NameError",
     "evalue": "name 'x' is not defined",
     "output_type": "error",
     "traceback": [
      "\u001b[1;31m---------------------------------------------------------------------------\u001b[0m",
      "\u001b[1;31mNameError\u001b[0m                                 Traceback (most recent call last)",
      "Input \u001b[1;32mIn [41]\u001b[0m, in \u001b[0;36m<cell line: 2>\u001b[1;34m()\u001b[0m\n\u001b[0;32m      1\u001b[0m \u001b[38;5;28;01mdel\u001b[39;00m x \u001b[38;5;66;03m# deleting the array variable\u001b[39;00m\n\u001b[1;32m----> 2\u001b[0m \u001b[38;5;28mprint\u001b[39m (\u001b[43mx\u001b[49m)\n",
      "\u001b[1;31mNameError\u001b[0m: name 'x' is not defined"
     ]
    }
   ],
   "source": [
    "del x # deleting the array variable\n",
    "print (x)"
   ]
  },
  {
   "cell_type": "code",
   "execution_count": 42,
   "id": "6f475b92",
   "metadata": {},
   "outputs": [
    {
     "name": "stdout",
     "output_type": "stream",
     "text": [
      "array('i', [56, 23, 89, 12, 53, 23, 76])\n"
     ]
    }
   ],
   "source": [
    "import array as abc\n",
    "alist = [56,23,89,12,53,23,76]\n",
    "num = abc.array ('i',alist)\n",
    "print (num)"
   ]
  },
  {
   "cell_type": "code",
   "execution_count": 43,
   "id": "311edfe1",
   "metadata": {},
   "outputs": [
    {
     "name": "stdout",
     "output_type": "stream",
     "text": [
      "array('i', [56, 23, 12, 53, 23, 76])\n"
     ]
    }
   ],
   "source": [
    "num.remove (89)# element\n",
    "print (num)"
   ]
  },
  {
   "cell_type": "code",
   "execution_count": 44,
   "id": "08f50474",
   "metadata": {},
   "outputs": [
    {
     "name": "stdout",
     "output_type": "stream",
     "text": [
      "array('i', [56, 23, 12, 23, 76])\n"
     ]
    }
   ],
   "source": [
    "num.pop (3) #indexed value\n",
    "print (num)"
   ]
  },
  {
   "cell_type": "code",
   "execution_count": 45,
   "id": "cfd21943",
   "metadata": {},
   "outputs": [
    {
     "name": "stdout",
     "output_type": "stream",
     "text": [
      "array('i', [2, 5, 6, 2, 5, 6, 8, 9, 3, 1, 8, 6, 2, 3, 7, 9])\n"
     ]
    }
   ],
   "source": [
    "# Slicing in an array\n",
    "import array as abc\n",
    "alist = [2,5,6,2,5,6,8,9,3,1,8,6,2,3,7,9]\n",
    "num = abc.array ('i',alist)\n",
    "print (num)"
   ]
  },
  {
   "cell_type": "code",
   "execution_count": 46,
   "id": "d92fde9f",
   "metadata": {},
   "outputs": [
    {
     "name": "stdout",
     "output_type": "stream",
     "text": [
      "array('i', [3, 2, 6, 8, 1, 3])\n",
      "array('i', [3, 1, 8, 6, 2, 3])\n"
     ]
    }
   ],
   "source": [
    "print (num[13:7:-1])  # reverse\n",
    "\n",
    "print (num[8:14]) "
   ]
  },
  {
   "cell_type": "code",
   "execution_count": 47,
   "id": "4844686f",
   "metadata": {},
   "outputs": [
    {
     "name": "stdout",
     "output_type": "stream",
     "text": [
      "array('i', [2, 5, 6, 8, 9, 3])\n"
     ]
    }
   ],
   "source": [
    "print (num[-13:-7])"
   ]
  },
  {
   "cell_type": "code",
   "execution_count": 48,
   "id": "6a434762",
   "metadata": {},
   "outputs": [
    {
     "name": "stdout",
     "output_type": "stream",
     "text": [
      "array('i', [2, 5, 6, 2, 5, 6, 8, 9, 3, 1, 8, 6, 2, 3, 7, 9])\n"
     ]
    }
   ],
   "source": [
    "print (num)"
   ]
  },
  {
   "cell_type": "code",
   "execution_count": 49,
   "id": "4ec49609",
   "metadata": {},
   "outputs": [
    {
     "name": "stdout",
     "output_type": "stream",
     "text": [
      "array('i', [2, 5, 6, 2, 5, 6, 1234, 9, 3, 1, 8, 6, 2, 3, 7, 9])\n"
     ]
    }
   ],
   "source": [
    "num[6] = 1234\n",
    "print(num)"
   ]
  },
  {
   "cell_type": "code",
   "execution_count": 50,
   "id": "334565c3",
   "metadata": {},
   "outputs": [
    {
     "ename": "TypeError",
     "evalue": "array indices must be integers",
     "output_type": "error",
     "traceback": [
      "\u001b[1;31m---------------------------------------------------------------------------\u001b[0m",
      "\u001b[1;31mTypeError\u001b[0m                                 Traceback (most recent call last)",
      "Input \u001b[1;32mIn [50]\u001b[0m, in \u001b[0;36m<cell line: 1>\u001b[1;34m()\u001b[0m\n\u001b[1;32m----> 1\u001b[0m num[\u001b[38;5;241m7\u001b[39m, \u001b[38;5;241m8\u001b[39m] \u001b[38;5;241m=\u001b[39m \u001b[38;5;241m9883\u001b[39m, \u001b[38;5;241m3434\u001b[39m\n",
      "\u001b[1;31mTypeError\u001b[0m: array indices must be integers"
     ]
    }
   ],
   "source": [
    "num[7, 8] = 9883, 3434"
   ]
  },
  {
   "cell_type": "code",
   "execution_count": 51,
   "id": "150750ba",
   "metadata": {},
   "outputs": [
    {
     "name": "stdout",
     "output_type": "stream",
     "text": [
      "array('i', [2, 5, 6, 2, 5, 6, 1234, 9, 3, 1, 8, 6, 2, 3, 7, 9])\n"
     ]
    },
    {
     "ename": "TypeError",
     "evalue": "can only assign array (not \"list\") to array slice",
     "output_type": "error",
     "traceback": [
      "\u001b[1;31m---------------------------------------------------------------------------\u001b[0m",
      "\u001b[1;31mTypeError\u001b[0m                                 Traceback (most recent call last)",
      "Input \u001b[1;32mIn [51]\u001b[0m, in \u001b[0;36m<cell line: 2>\u001b[1;34m()\u001b[0m\n\u001b[0;32m      1\u001b[0m \u001b[38;5;28mprint\u001b[39m (num)\n\u001b[1;32m----> 2\u001b[0m num[\u001b[38;5;241m7\u001b[39m:\u001b[38;5;241m8\u001b[39m] \u001b[38;5;241m=\u001b[39m [\u001b[38;5;241m9883\u001b[39m, \u001b[38;5;241m3434\u001b[39m]\n\u001b[0;32m      3\u001b[0m \u001b[38;5;28mprint\u001b[39m (num)\n",
      "\u001b[1;31mTypeError\u001b[0m: can only assign array (not \"list\") to array slice"
     ]
    }
   ],
   "source": [
    "print (num)\n",
    "num[7:8] = [9883, 3434]\n",
    "print (num)"
   ]
  },
  {
   "cell_type": "code",
   "execution_count": 52,
   "id": "6f9d030e",
   "metadata": {},
   "outputs": [
    {
     "name": "stdout",
     "output_type": "stream",
     "text": [
      "array('i', [2, 5, 6, 2, 5, 6, 1234, 9, 3, 1, 8, 6, 2, 3, 7, 9])\n",
      "array('i', [2, 5, 6, 2, 5, 6, 1234, 3333, 99, 1, 8, 6, 2, 3, 7, 9])\n"
     ]
    }
   ],
   "source": [
    "print (num)\n",
    "num[7:9] = abc.array(\"i\",[3333, 99])\n",
    "print (num)"
   ]
  },
  {
   "cell_type": "code",
   "execution_count": 53,
   "id": "9ea97343",
   "metadata": {},
   "outputs": [
    {
     "name": "stdout",
     "output_type": "stream",
     "text": [
      "array('i', [454, 676, 232, 87, 8575])\n"
     ]
    }
   ],
   "source": [
    "import array as temp\n",
    "x = temp.array (\"i\", [454, 676, 232, 87, 8575])\n",
    "print (x)"
   ]
  },
  {
   "cell_type": "code",
   "execution_count": 54,
   "id": "4a4a1eac",
   "metadata": {},
   "outputs": [
    {
     "name": "stdout",
     "output_type": "stream",
     "text": [
      "array('i', [454, 676, 8898, 755, 8575])\n"
     ]
    }
   ],
   "source": [
    "x[2:4] = temp.array (\"i\", [8898, 755])\n",
    "print (x)"
   ]
  },
  {
   "cell_type": "code",
   "execution_count": 55,
   "id": "2f3c480f",
   "metadata": {},
   "outputs": [
    {
     "name": "stdout",
     "output_type": "stream",
     "text": [
      "array('i', [454, 676, 8898, 755, 8575, 444444, 99999])\n"
     ]
    }
   ],
   "source": [
    "# append ()\n",
    "x.append (444444)\n",
    "x.append (99999)\n",
    "print (x)"
   ]
  },
  {
   "cell_type": "code",
   "execution_count": 56,
   "id": "4f8bdd27",
   "metadata": {},
   "outputs": [
    {
     "name": "stdout",
     "output_type": "stream",
     "text": [
      "array('i', [454, 676, 8898, 755, 8575, 444444, 99999, 11111, 222222, 33333])\n"
     ]
    }
   ],
   "source": [
    "x.extend ([11111, 222222, 33333])\n",
    "print (x)"
   ]
  },
  {
   "cell_type": "code",
   "execution_count": 57,
   "id": "80089279",
   "metadata": {},
   "outputs": [
    {
     "name": "stdout",
     "output_type": "stream",
     "text": [
      "array('i', [78, 45, 12, 23, 56, 89, 99])\n"
     ]
    }
   ],
   "source": [
    "import array as p\n",
    "m = p.array (\"i\", [78, 45, 12, 23, 56, 89])\n",
    "#print (m)\n",
    "m.append(99)\n",
    "print (m)"
   ]
  },
  {
   "cell_type": "code",
   "execution_count": 58,
   "id": "9a8c717e",
   "metadata": {},
   "outputs": [],
   "source": [
    "m.append(99)"
   ]
  },
  {
   "cell_type": "code",
   "execution_count": 59,
   "id": "f98af4aa",
   "metadata": {},
   "outputs": [
    {
     "name": "stdout",
     "output_type": "stream",
     "text": [
      "array('i', [78, 45, 12, 23, 56, 89, 99, 99])\n"
     ]
    }
   ],
   "source": [
    "print (m)"
   ]
  },
  {
   "cell_type": "code",
   "execution_count": 60,
   "id": "653549c6",
   "metadata": {},
   "outputs": [
    {
     "name": "stdout",
     "output_type": "stream",
     "text": [
      "array('i', [78, 45, 12, 23, 8989, 89, 99, 99])\n"
     ]
    }
   ],
   "source": [
    "m[4:5] = p.array (\"i\", [8989])\n",
    "print (m)"
   ]
  },
  {
   "cell_type": "code",
   "execution_count": 61,
   "id": "faa614bb",
   "metadata": {},
   "outputs": [
    {
     "name": "stdout",
     "output_type": "stream",
     "text": [
      "array('i', [78, 45, 12, 23, 47, 8989, 89, 99, 99])\n"
     ]
    }
   ],
   "source": [
    "m.insert(4, 47)\n",
    "print (m)"
   ]
  },
  {
   "cell_type": "code",
   "execution_count": 62,
   "id": "892a8c24",
   "metadata": {},
   "outputs": [
    {
     "ename": "AttributeError",
     "evalue": "'array.array' object has no attribute 'sort'",
     "output_type": "error",
     "traceback": [
      "\u001b[1;31m---------------------------------------------------------------------------\u001b[0m",
      "\u001b[1;31mAttributeError\u001b[0m                            Traceback (most recent call last)",
      "Input \u001b[1;32mIn [62]\u001b[0m, in \u001b[0;36m<cell line: 1>\u001b[1;34m()\u001b[0m\n\u001b[1;32m----> 1\u001b[0m \u001b[43mm\u001b[49m\u001b[38;5;241;43m.\u001b[39;49m\u001b[43msort\u001b[49m()\n\u001b[0;32m      2\u001b[0m \u001b[38;5;28mprint\u001b[39m (m)\n",
      "\u001b[1;31mAttributeError\u001b[0m: 'array.array' object has no attribute 'sort'"
     ]
    }
   ],
   "source": [
    "m.sort()\n",
    "print (m)"
   ]
  },
  {
   "cell_type": "code",
   "execution_count": 63,
   "id": "c56692fb",
   "metadata": {},
   "outputs": [
    {
     "name": "stdout",
     "output_type": "stream",
     "text": [
      "array('i', [89, 56, 23, 12, 45, 78])\n",
      "array('i', [78, 45, 12, 23, 56])\n",
      "array('i', [89, 56, 23, 12, 45, 78, 78, 45, 12, 23, 56])\n",
      "array('i', [89, 56, 23, 12, 45, 78])\n",
      "array('i', [78, 45, 12, 23, 56])\n",
      "array('i', [78, 45, 12, 23, 56, 89, 56, 23, 12, 45, 78])\n"
     ]
    }
   ],
   "source": [
    "# concatenation or merging of two arrays\n",
    "import array as b\n",
    "z = b.array (\"i\", [89, 56, 23, 12, 45, 78])\n",
    "y = b.array (\"i\", [78, 45, 12, 23, 56])\n",
    "\n",
    "print (z)\n",
    "print (y)\n",
    "result = z + y\n",
    "print (result)\n",
    "\n",
    "print (z)\n",
    "print (y)\n",
    "result = y + z\n",
    "print (result)\n"
   ]
  },
  {
   "cell_type": "code",
   "execution_count": 64,
   "id": "0d1c70b2",
   "metadata": {},
   "outputs": [
    {
     "name": "stdout",
     "output_type": "stream",
     "text": [
      "array('i', [78, 45, 12, 23, 56, 89, 56, 23, 12, 45, 78])\n"
     ]
    }
   ],
   "source": [
    "y.extend (z)\n",
    "print (y)"
   ]
  },
  {
   "cell_type": "code",
   "execution_count": 65,
   "id": "414e9c05",
   "metadata": {},
   "outputs": [
    {
     "name": "stdout",
     "output_type": "stream",
     "text": [
      "array('i', [78, 45, 12, 23, 56, 89, 56, 23, 12, 45, 78])\n",
      "array('i', [89, 56, 23, 12, 45, 78])\n"
     ]
    }
   ],
   "source": [
    "print (y)\n",
    "print (z)"
   ]
  },
  {
   "cell_type": "code",
   "execution_count": 66,
   "id": "9589b27f",
   "metadata": {},
   "outputs": [
    {
     "name": "stdout",
     "output_type": "stream",
     "text": [
      "array('i', [78, 45, 12, 23, 56, 89, 56, 23, 12, 45, 78])\n",
      "array('i', [78, 45, 12, 23, 56, 89, 56, 12, 45, 78])\n"
     ]
    }
   ],
   "source": [
    "print (y)\n",
    "del y[7] #index value\n",
    "print (y)"
   ]
  },
  {
   "cell_type": "code",
   "execution_count": 67,
   "id": "fd44b497",
   "metadata": {},
   "outputs": [
    {
     "name": "stdout",
     "output_type": "stream",
     "text": [
      "array('i', [78, 45, 12, 23, 56, 89, 56, 12])\n"
     ]
    }
   ],
   "source": [
    "del y[8:10]\n",
    "print (y)"
   ]
  },
  {
   "cell_type": "code",
   "execution_count": 68,
   "id": "f3630a09",
   "metadata": {},
   "outputs": [
    {
     "name": "stdout",
     "output_type": "stream",
     "text": [
      "array('i')\n"
     ]
    }
   ],
   "source": [
    "del y[:] # all the elements\n",
    "print (y)"
   ]
  },
  {
   "cell_type": "code",
   "execution_count": 69,
   "id": "4dd1a3a0",
   "metadata": {},
   "outputs": [],
   "source": [
    "y.append (64)\n",
    "y.append (675)"
   ]
  },
  {
   "cell_type": "code",
   "execution_count": 70,
   "id": "4ea46e75",
   "metadata": {},
   "outputs": [
    {
     "name": "stdout",
     "output_type": "stream",
     "text": [
      "array('i', [64, 675])\n"
     ]
    }
   ],
   "source": [
    "print (y)"
   ]
  },
  {
   "cell_type": "code",
   "execution_count": 71,
   "id": "99233178",
   "metadata": {},
   "outputs": [],
   "source": [
    "del y # delete array variable"
   ]
  },
  {
   "cell_type": "code",
   "execution_count": 72,
   "id": "8c725b2e",
   "metadata": {},
   "outputs": [
    {
     "ename": "NameError",
     "evalue": "name 'y' is not defined",
     "output_type": "error",
     "traceback": [
      "\u001b[1;31m---------------------------------------------------------------------------\u001b[0m",
      "\u001b[1;31mNameError\u001b[0m                                 Traceback (most recent call last)",
      "Input \u001b[1;32mIn [72]\u001b[0m, in \u001b[0;36m<cell line: 1>\u001b[1;34m()\u001b[0m\n\u001b[1;32m----> 1\u001b[0m \u001b[38;5;28mprint\u001b[39m (\u001b[43my\u001b[49m)\n",
      "\u001b[1;31mNameError\u001b[0m: name 'y' is not defined"
     ]
    }
   ],
   "source": [
    "print (y)"
   ]
  },
  {
   "cell_type": "code",
   "execution_count": 73,
   "id": "4dc1a953",
   "metadata": {},
   "outputs": [
    {
     "name": "stdout",
     "output_type": "stream",
     "text": [
      "array('i', [89, 56, 23, 12, 45, 78])\n"
     ]
    }
   ],
   "source": [
    "print (z)"
   ]
  },
  {
   "cell_type": "code",
   "execution_count": 74,
   "id": "9e70b6ff",
   "metadata": {},
   "outputs": [
    {
     "name": "stdout",
     "output_type": "stream",
     "text": [
      "array('i', [89, 56, 23, 45, 78])\n"
     ]
    }
   ],
   "source": [
    "# remove ()\n",
    "z.remove (12) # element value\n",
    "print (z)"
   ]
  },
  {
   "cell_type": "code",
   "execution_count": 75,
   "id": "d98b5974",
   "metadata": {},
   "outputs": [
    {
     "name": "stdout",
     "output_type": "stream",
     "text": [
      "array('i', [89, 23, 45, 78])\n"
     ]
    }
   ],
   "source": [
    "z.pop (1) # index value\n",
    "print (z)"
   ]
  },
  {
   "cell_type": "code",
   "execution_count": null,
   "id": "d612ef43",
   "metadata": {},
   "outputs": [],
   "source": []
  }
 ],
 "metadata": {
  "kernelspec": {
   "display_name": "Python 3 (ipykernel)",
   "language": "python",
   "name": "python3"
  },
  "language_info": {
   "codemirror_mode": {
    "name": "ipython",
    "version": 3
   },
   "file_extension": ".py",
   "mimetype": "text/x-python",
   "name": "python",
   "nbconvert_exporter": "python",
   "pygments_lexer": "ipython3",
   "version": "3.9.12"
  }
 },
 "nbformat": 4,
 "nbformat_minor": 5
}
