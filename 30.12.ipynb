{
 "cells": [
  {
   "cell_type": "code",
   "execution_count": 50,
   "id": "9cdb4c3f",
   "metadata": {},
   "outputs": [
    {
     "name": "stdout",
     "output_type": "stream",
     "text": [
      "Enter an integer:18\n",
      "Factors are:\n",
      "i 2\n",
      "i 3\n"
     ]
    }
   ],
   "source": [
    "# Find the prime factors of an interger number\n",
    "# num = 100 its prime factors will be 2 ,5\n",
    "n=int(input(\"Enter an integer:\"))\n",
    "print(\"Factors are:\")\n",
    "i=1\n",
    "while(i<=n):\n",
    "    k=0\n",
    "    if(n%i==0):\n",
    "        j=1\n",
    "        while(j<=i):\n",
    "            if(i%j==0):\n",
    "                #print (\"k \", k)\n",
    "                k=k+1\n",
    "            #print (\"j \", j)\n",
    "            j=j+1\n",
    "        if(k==2):\n",
    "            print(\"i\", i)\n",
    "    i=i+1"
   ]
  },
  {
   "cell_type": "code",
   "execution_count": 14,
   "id": "ea24c0a1",
   "metadata": {},
   "outputs": [
    {
     "name": "stdout",
     "output_type": "stream",
     "text": [
      "3\n",
      "10\n",
      "40\n",
      "44\n"
     ]
    }
   ],
   "source": [
    "import random as t # t is an aliasing or reference variable\n",
    "print (random.randrange(17))\n",
    "print (random.randrange(6, 16))\n",
    "print (random.randrange(8, 52, 4))\n",
    "print (t.randrange(8, 52, 4))"
   ]
  },
  {
   "cell_type": "code",
   "execution_count": 16,
   "id": "095029e0",
   "metadata": {},
   "outputs": [
    {
     "data": {
      "text/plain": [
       "24"
      ]
     },
     "execution_count": 16,
     "metadata": {},
     "output_type": "execute_result"
    }
   ],
   "source": [
    "random.randint (23, 56)"
   ]
  },
  {
   "cell_type": "code",
   "execution_count": 17,
   "id": "728d3df3",
   "metadata": {},
   "outputs": [
    {
     "data": {
      "text/plain": [
       "0.2880723482925105"
      ]
     },
     "execution_count": 17,
     "metadata": {},
     "output_type": "execute_result"
    }
   ],
   "source": [
    "random.random ()"
   ]
  },
  {
   "cell_type": "code",
   "execution_count": 24,
   "id": "241723b5",
   "metadata": {},
   "outputs": [
    {
     "name": "stdout",
     "output_type": "stream",
     "text": [
      "72\n"
     ]
    }
   ],
   "source": [
    "print (random.randrange(88, 52, -4))\n",
    "#print (random.randint(88, 52, -4)) # error will come"
   ]
  },
  {
   "cell_type": "code",
   "execution_count": 26,
   "id": "a47e31b9",
   "metadata": {},
   "outputs": [
    {
     "data": {
      "text/plain": [
       "8.383740708180907"
      ]
     },
     "execution_count": 26,
     "metadata": {},
     "output_type": "execute_result"
    }
   ],
   "source": [
    "random.uniform (7.8, 9.2)"
   ]
  },
  {
   "cell_type": "code",
   "execution_count": 30,
   "id": "f3b489b1",
   "metadata": {},
   "outputs": [
    {
     "name": "stdout",
     "output_type": "stream",
     "text": [
      "Z\n",
      "22\n",
      "56\n"
     ]
    }
   ],
   "source": [
    "print (random.choice (\"Golu Neha XYZ\")) # string\n",
    "print (random.choice ([56, 78, 22, 89, 22, 90])) # list\n",
    "print (random.choice ((56, 78, 22, 89, 22, 90))) # tuple\n"
   ]
  },
  {
   "cell_type": "code",
   "execution_count": 33,
   "id": "fb335908",
   "metadata": {},
   "outputs": [
    {
     "name": "stdout",
     "output_type": "stream",
     "text": [
      "['h', ' ', 'a', ' ']\n",
      "[26, 26, 89]\n",
      "[22, 78]\n"
     ]
    }
   ],
   "source": [
    "print (random.choices (\"Golu Neha XYZ\", k=4)) # string\n",
    "print (random.choices ([56, 78, 22, 89, 26, 90], k=3)) # list\n",
    "print (random.choices ((56, 78, 22, 89, 26, 90), k=2)) # tuple"
   ]
  },
  {
   "cell_type": "code",
   "execution_count": 39,
   "id": "e4f6e98d",
   "metadata": {},
   "outputs": [
    {
     "name": "stdout",
     "output_type": "stream",
     "text": [
      "[94, 88, 44, 22, 89, 22, 67, 90, 23, 78, 12, 56]\n"
     ]
    }
   ],
   "source": [
    "#print (random.shuffle (\"Golu Neha XYZ\")) # error\n",
    "t = [56, 78, 22, 89, 22, 90, 88, 44, 67, 23, 94, 12]\n",
    "random.shuffle (t) # list\n",
    "print (t)\n",
    "#print (random.shuffle ((56, 78, 22, 89, 22, 90))) # error"
   ]
  },
  {
   "cell_type": "code",
   "execution_count": 55,
   "id": "b2610ba6",
   "metadata": {},
   "outputs": [
    {
     "name": "stdout",
     "output_type": "stream",
     "text": [
      "XYZ MOP YOW DSA LOPS\n",
      "['O', 'L', 'S', 'A', ' ']\n",
      "[45, 67, 33, 78, 11, 99, 67, 44]\n",
      "[44, 11, 33, 67]\n"
     ]
    }
   ],
   "source": [
    "name1 = \"XYZ MOP YOW DSA LOPS\"\n",
    "name2 = [45, 67, 33, 78, 11, 99, 67, 44]\n",
    "t1 = random.sample(name1, k = 5)\n",
    "t2 = random.sample(name2, k = 4)\n",
    "print (name1)\n",
    "print (t1)\n",
    "print (name2)\n",
    "print (t2)"
   ]
  },
  {
   "cell_type": "code",
   "execution_count": 3,
   "id": "963f98de",
   "metadata": {},
   "outputs": [
    {
     "name": "stdout",
     "output_type": "stream",
     "text": [
      "7\n"
     ]
    }
   ],
   "source": [
    "# Random \n",
    "import random\n",
    "print (random.randrange (10)) # 0 to 9"
   ]
  },
  {
   "cell_type": "code",
   "execution_count": 5,
   "id": "4d1a4a65",
   "metadata": {},
   "outputs": [
    {
     "name": "stdout",
     "output_type": "stream",
     "text": [
      "53\n"
     ]
    }
   ],
   "source": [
    "print (random.randrange (34, 88)) # 34 to 87"
   ]
  },
  {
   "cell_type": "code",
   "execution_count": 10,
   "id": "5d365e73",
   "metadata": {},
   "outputs": [
    {
     "name": "stdout",
     "output_type": "stream",
     "text": [
      "25\n"
     ]
    }
   ],
   "source": [
    "print (random.randrange (22, 34, 3)) # 22, 25, 28 ... 33"
   ]
  },
  {
   "cell_type": "code",
   "execution_count": 13,
   "id": "a13b7cc6",
   "metadata": {},
   "outputs": [
    {
     "name": "stdout",
     "output_type": "stream",
     "text": [
      "15\n"
     ]
    }
   ],
   "source": [
    "print (random.randrange (67, 12, -4)) # 67, 63, .. 11"
   ]
  },
  {
   "cell_type": "code",
   "execution_count": 15,
   "id": "444fb5c4",
   "metadata": {},
   "outputs": [
    {
     "data": {
      "text/plain": [
       "93"
      ]
     },
     "execution_count": 15,
     "metadata": {},
     "output_type": "execute_result"
    }
   ],
   "source": [
    "import random as r # aliasing or reference variable\n",
    "r.randrange (88, 102)"
   ]
  },
  {
   "cell_type": "code",
   "execution_count": 19,
   "id": "166f9358",
   "metadata": {},
   "outputs": [
    {
     "name": "stdout",
     "output_type": "stream",
     "text": [
      "54\n"
     ]
    }
   ],
   "source": [
    "print (random.randint (27, 54)) # 27 to 54"
   ]
  },
  {
   "cell_type": "code",
   "execution_count": 22,
   "id": "c4d82b9f",
   "metadata": {},
   "outputs": [
    {
     "name": "stdout",
     "output_type": "stream",
     "text": [
      "5.283870984018385\n",
      "1.1449031589363765\n",
      "3.1374564216308585\n"
     ]
    }
   ],
   "source": [
    "print (random.uniform(3.5 , 8.9))\n",
    "print (random.uniform(0.5 , 3.9))\n",
    "print (random.uniform(2.5 , 4.5))"
   ]
  },
  {
   "cell_type": "code",
   "execution_count": 24,
   "id": "8c2a4fe5",
   "metadata": {},
   "outputs": [
    {
     "name": "stdout",
     "output_type": "stream",
     "text": [
      "0.9111970433312138\n",
      "0.9343084202757528\n"
     ]
    }
   ],
   "source": [
    "print (random.uniform (0, 1))\n",
    "print (random.random()) # no parameter"
   ]
  },
  {
   "cell_type": "code",
   "execution_count": 32,
   "id": "b3486d15",
   "metadata": {},
   "outputs": [
    {
     "name": "stdout",
     "output_type": "stream",
     "text": [
      "D\n",
      "12\n",
      "78\n"
     ]
    }
   ],
   "source": [
    "# Choice\n",
    "print (random.choice (\"XYZ LPW GFHS QADD FHFG\")) # string\n",
    "print (random.choice ([67, 34, 89, 12, 55, 24, 90, 10])) # list\n",
    "print (random.choice ((64, 89, 35, 78, 55, 16, 74))) # tuple"
   ]
  },
  {
   "cell_type": "code",
   "execution_count": 35,
   "id": "0e246a9c",
   "metadata": {},
   "outputs": [
    {
     "name": "stdout",
     "output_type": "stream",
     "text": [
      "['W', ' ', 'L', ' ', 'Y']\n",
      "[89, 55, 24]\n",
      "[78, 16, 78, 78]\n"
     ]
    }
   ],
   "source": [
    "# Choices\n",
    "print (random.choices (\"XYZ LPW GFHS QADD FHFG\", k=5)) # string\n",
    "print (random.choices ([67, 34, 89, 12, 55, 24, 90, 10], k=3)) # list\n",
    "print (random.choices ((64, 89, 35, 78, 55, 16, 74), k=4)) # tuple"
   ]
  },
  {
   "cell_type": "code",
   "execution_count": 40,
   "id": "79c83df9",
   "metadata": {},
   "outputs": [
    {
     "name": "stdout",
     "output_type": "stream",
     "text": [
      "[12, 34, 24, 55, 10, 89, 90, 67]\n"
     ]
    }
   ],
   "source": [
    "l = [67, 34, 89, 12, 55, 24, 90, 10]\n",
    "random.shuffle(l)\n",
    "print (l)"
   ]
  },
  {
   "cell_type": "code",
   "execution_count": 48,
   "id": "77d6afcb",
   "metadata": {},
   "outputs": [
    {
     "name": "stdout",
     "output_type": "stream",
     "text": [
      "[' ', 'V', 'h', 'n', 'n', 'r']\n",
      "[33, 53, 23, 77]\n",
      "[23, 46, 77]\n"
     ]
    }
   ],
   "source": [
    "# sample ()\n",
    "s = \" Virendra Singh Kushwah\"\n",
    "r1 = random.sample(s, k=6)\n",
    "print (r1)\n",
    "\n",
    "l = [78, 33, 77, 12, 99, 55, 46, 23, 53]\n",
    "r2 = random.sample(l, k=4)\n",
    "print (r2)\n",
    "\n",
    "l = (78, 33, 77, 12, 99, 55, 46, 23, 53)\n",
    "r3 = random.sample(l, k=3)\n",
    "print (r3)"
   ]
  },
  {
   "cell_type": "code",
   "execution_count": null,
   "id": "cfa091c1",
   "metadata": {},
   "outputs": [],
   "source": []
  }
 ],
 "metadata": {
  "kernelspec": {
   "display_name": "Python 3 (ipykernel)",
   "language": "python",
   "name": "python3"
  },
  "language_info": {
   "codemirror_mode": {
    "name": "ipython",
    "version": 3
   },
   "file_extension": ".py",
   "mimetype": "text/x-python",
   "name": "python",
   "nbconvert_exporter": "python",
   "pygments_lexer": "ipython3",
   "version": "3.9.12"
  }
 },
 "nbformat": 4,
 "nbformat_minor": 5
}
