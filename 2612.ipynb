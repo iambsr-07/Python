{
 "cells": [
  {
   "cell_type": "code",
   "execution_count": 2,
   "metadata": {},
   "outputs": [],
   "source": [
    "#finding square root of a number without any function\n",
    "num= int(input(\" enter the number you want to find the square root\"))\n",
    "sqrt= num ** 0.5\n",
    "print(sqrt)\n"
   ]
  },
  {
   "cell_type": "code",
   "execution_count": 6,
   "metadata": {},
   "outputs": [
    {
     "name": "stdout",
     "output_type": "stream",
     "text": [
      "2.23606797749979\n"
     ]
    }
   ],
   "source": [
    "def sqrt(x):\n",
    "    num= int(input(\" enter the number you want to find the square root\"))\n",
    "    res = num **0.5\n",
    "    print(res)\n",
    "sqrt(5)\n",
    "    "
   ]
  },
  {
   "cell_type": "code",
   "execution_count": null,
   "metadata": {},
   "outputs": [],
   "source": [
    "import math\n",
    "num = 1+ 2j\n",
    "print(math.sqrt(num))"
   ]
  },
  {
   "cell_type": "code",
   "execution_count": 8,
   "metadata": {},
   "outputs": [
    {
     "name": "stdout",
     "output_type": "stream",
     "text": [
      "(1.272019649514069+0.7861513777574233j)\n"
     ]
    }
   ],
   "source": [
    "import cmath\n",
    "num = 1+ 2j\n",
    "print(cmath.sqrt(num))"
   ]
  },
  {
   "cell_type": "code",
   "execution_count": 10,
   "metadata": {},
   "outputs": [
    {
     "name": "stdout",
     "output_type": "stream",
     "text": [
      "divisors are ====> [3, 5, 9, 15, 45]\n",
      "smallesr divisor ===> 3\n"
     ]
    }
   ],
   "source": [
    "num= int(input(\" enter the number you want to find the result\"))\n",
    "l=[]\n",
    "for  i in range(2,num+1):\n",
    "    if(num%i==0):\n",
    "        l.append(i)\n",
    "print(\"divisors are ====>\", l)\n",
    "print(\"smallesr divisor ===>\",l[0])"
   ]
  }
 ],
 "metadata": {
  "kernelspec": {
   "display_name": "Python 3",
   "language": "python",
   "name": "python3"
  },
  "language_info": {
   "codemirror_mode": {
    "name": "ipython",
    "version": 3
   },
   "file_extension": ".py",
   "mimetype": "text/x-python",
   "name": "python",
   "nbconvert_exporter": "python",
   "pygments_lexer": "ipython3",
   "version": "3.11.0"
  },
  "orig_nbformat": 4,
  "vscode": {
   "interpreter": {
    "hash": "b6486d4b6c57b19583e9d0c47510e2d8c0c0f47bde759015cf22c5139ee6d241"
   }
  }
 },
 "nbformat": 4,
 "nbformat_minor": 2
}
