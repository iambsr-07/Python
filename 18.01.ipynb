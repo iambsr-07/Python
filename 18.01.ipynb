{
 "cells": [
  {
   "cell_type": "code",
   "execution_count": 1,
   "id": "ab07511a",
   "metadata": {},
   "outputs": [
    {
     "name": "stdout",
     "output_type": "stream",
     "text": [
      "Enter total elements: 6\n",
      "Enter number : 12\n",
      "Enter number : 56\n",
      "Enter number : 45\n",
      "Enter number : 98\n",
      "Enter number : 23\n",
      "Enter number : 78\n",
      "[12, 56, 45, 98, 23, 78]\n",
      "array('i', [12, 56, 45, 98, 23, 78])\n"
     ]
    }
   ],
   "source": [
    "import array as ar\n",
    "\n",
    "temp = []\n",
    "n = int (input (\"Enter total elements: \"))\n",
    "for i in range (n):\n",
    "    num = int (input (\"Enter number : \"))\n",
    "    temp.append (num)\n",
    "print (temp)\n",
    "arv = ar.array (\"i\", temp)\n",
    "print (arv)"
   ]
  },
  {
   "cell_type": "code",
   "execution_count": 2,
   "id": "56b4a9e9",
   "metadata": {},
   "outputs": [
    {
     "name": "stdout",
     "output_type": "stream",
     "text": [
      "<class 'dict'>\n",
      "<class 'set'>\n"
     ]
    }
   ],
   "source": [
    "temp1 = {} #empty dictionary\n",
    "print (type (temp1))\n",
    "\n",
    "temp2 = {()} #empty set\n",
    "print (type (temp2))"
   ]
  },
  {
   "cell_type": "code",
   "execution_count": 3,
   "id": "fa8887d3",
   "metadata": {},
   "outputs": [
    {
     "name": "stdout",
     "output_type": "stream",
     "text": [
      "{}\n",
      "<class 'dict'>\n",
      "set()\n",
      "<class 'set'>\n"
     ]
    }
   ],
   "source": [
    "#empty dictionary\n",
    "a = {}\n",
    "print (a)\n",
    "print (type(a))\n",
    "\n",
    "b={}\n",
    "b=set()\n",
    "print (b)\n",
    "print (type(b))"
   ]
  },
  {
   "cell_type": "code",
   "execution_count": 4,
   "id": "9036931c",
   "metadata": {},
   "outputs": [
    {
     "name": "stdout",
     "output_type": "stream",
     "text": [
      "<class 'set'>\n",
      "<class 'dict'>\n",
      "{1: 'Apple', 2: 'Ball'}\n"
     ]
    }
   ],
   "source": [
    "#SET\n",
    "c={1,2,3,4} #or c=set()\n",
    "print (type(c))\n",
    "\n",
    "c={} #dictionary\n",
    "print (type(c))\n",
    "\n",
    "#dictionary with integer keys\n",
    "d = {1:'Apple', 2:'Ball'} #key:value\n",
    "print (d)"
   ]
  },
  {
   "cell_type": "code",
   "execution_count": 5,
   "id": "8be80960",
   "metadata": {},
   "outputs": [
    {
     "name": "stdout",
     "output_type": "stream",
     "text": [
      "{1: 'singh', 2: 'Ball', 3: 88}\n"
     ]
    }
   ],
   "source": [
    "#dictionary with integer keys\n",
    "d = {1:'Apple', 2:'Ball', 3:'virendra', 3:88, 1:'singh'} #key:value\n",
    "print (d)"
   ]
  },
  {
   "cell_type": "code",
   "execution_count": 6,
   "id": "15cc9bdf",
   "metadata": {},
   "outputs": [
    {
     "name": "stdout",
     "output_type": "stream",
     "text": [
      "{11: 'Apple', 22: 'Ball', 13: 'virendra', 3: 88, 17: 'singh'}\n"
     ]
    }
   ],
   "source": [
    "#dictionary with integer keys\n",
    "d = {11:'Apple', 22:'Ball', 13:'virendra', 3:88, 17:'singh'} #key:value\n",
    "print (d)"
   ]
  },
  {
   "cell_type": "code",
   "execution_count": 7,
   "id": "31229d22",
   "metadata": {},
   "outputs": [
    {
     "name": "stdout",
     "output_type": "stream",
     "text": [
      "{11: 'Apple', '22': 'Ball', 13: 'virendra', '3': 88, 17.9: 'singh'}\n"
     ]
    }
   ],
   "source": [
    "#dictionary with integer, string keys\n",
    "d = {11:'Apple', '22':'Ball', 13:'virendra', '3':88, 17.9:'singh'} #key:value\n",
    "print (d)"
   ]
  },
  {
   "cell_type": "code",
   "execution_count": 8,
   "id": "5f77b428",
   "metadata": {},
   "outputs": [
    {
     "name": "stdout",
     "output_type": "stream",
     "text": [
      "<class 'list'>\n",
      "<class 'tuple'>\n",
      "<class 'set'>\n",
      "<class 'dict'>\n"
     ]
    }
   ],
   "source": [
    "a = []\n",
    "b = ()\n",
    "c = {()}\n",
    "d = {}\n",
    "print (type(a))\n",
    "print (type(b))\n",
    "print (type(c))\n",
    "print (type(d))"
   ]
  },
  {
   "cell_type": "code",
   "execution_count": 9,
   "id": "0a5ea29b",
   "metadata": {},
   "outputs": [
    {
     "name": "stdout",
     "output_type": "stream",
     "text": [
      "<class 'list'>\n",
      "<class 'tuple'>\n",
      "<class 'set'>\n",
      "<class 'dict'>\n"
     ]
    }
   ],
   "source": [
    "a = list()\n",
    "b = tuple()\n",
    "c = set ()\n",
    "d = dict ()\n",
    "print (type(a))\n",
    "print (type(b))\n",
    "print (type(c))\n",
    "print (type(d))"
   ]
  },
  {
   "cell_type": "code",
   "execution_count": 10,
   "id": "dbbb5c76",
   "metadata": {},
   "outputs": [
    {
     "name": "stdout",
     "output_type": "stream",
     "text": [
      "{'name': 'virendra', 'age': 56, 56: [12, 34, 76, 8]}\n",
      "<class 'dict'>\n"
     ]
    }
   ],
   "source": [
    "x = {'name':'virendra', 'age':56, 56:[12,34,76,8]}\n",
    "print (x)\n",
    "print (type(x))"
   ]
  },
  {
   "cell_type": "code",
   "execution_count": 11,
   "id": "6d7a3c57",
   "metadata": {},
   "outputs": [
    {
     "name": "stdout",
     "output_type": "stream",
     "text": [
      "{'name': 'virendra', 'age': 56, 56: [12, 34, 76, 8]}\n"
     ]
    }
   ],
   "source": [
    "y = dict (x)\n",
    "print (y)"
   ]
  },
  {
   "cell_type": "code",
   "execution_count": 12,
   "id": "8c7c3801",
   "metadata": {},
   "outputs": [
    {
     "name": "stdout",
     "output_type": "stream",
     "text": [
      "56\n",
      "<class 'int'>\n",
      "{'name': 'virendra', 'age': 56, 56: [12, 34, 76, 8]}\n",
      "<class 'dict'>\n"
     ]
    }
   ],
   "source": [
    "y= 56\n",
    "print (y)\n",
    "print (type (y))\n",
    "\n",
    "y = x \n",
    "print (y)\n",
    "print (type (y))"
   ]
  },
  {
   "cell_type": "code",
   "execution_count": 13,
   "id": "3c1dfcaf",
   "metadata": {},
   "outputs": [
    {
     "name": "stdout",
     "output_type": "stream",
     "text": [
      "{11: 'Apple', '22': 'Ball', 13: 'virendra', '3': 88, 17.9: 'singh'}\n",
      "virendra\n",
      "88\n",
      "Ball\n"
     ]
    }
   ],
   "source": [
    "#dictionary with integer, string keys\n",
    "d = {11:'Apple', '22':'Ball', 13:'virendra', '3':88, 17.9:'singh'} #key:value\n",
    "print (d)\n",
    "\n",
    "r = d[13]\n",
    "print (r)\n",
    "print (d['3']) #key\n",
    "res = d.get('22') #key\n",
    "print (res)\n"
   ]
  },
  {
   "cell_type": "code",
   "execution_count": 14,
   "id": "21c071c6",
   "metadata": {},
   "outputs": [
    {
     "name": "stdout",
     "output_type": "stream",
     "text": [
      "{101: 'Virendra', 102: 'Neha', 105: 'Golu', 109: 'Reddy', 104: 'Perminder'}\n",
      "Enter the key: 105\n",
      "Golu\n",
      "Enter the key: 109\n",
      "Reddy\n",
      "5\n"
     ]
    }
   ],
   "source": [
    "stdrec = {101:'Virendra', 102:'Neha', 105:'Golu', 109:'Reddy', 104:'Perminder'}\n",
    "print(stdrec)\n",
    "\n",
    "a = int (input (\"Enter the key: \"))\n",
    "b = stdrec[a]\n",
    "print (b)\n",
    "\n",
    "a = int (input (\"Enter the key: \"))\n",
    "b = stdrec.get(a)\n",
    "print (b)\n",
    "\n",
    "print (len(stdrec))"
   ]
  },
  {
   "cell_type": "code",
   "execution_count": 15,
   "id": "1078d620",
   "metadata": {},
   "outputs": [
    {
     "name": "stdout",
     "output_type": "stream",
     "text": [
      "{101: 'Virendra', 102: 'Neha', 105: 'Golu', 109: 'Reddy', 104: 'Ayush'}\n"
     ]
    }
   ],
   "source": [
    "# update \n",
    "stdrec[104] = 'Ayush'\n",
    "print (stdrec)"
   ]
  },
  {
   "cell_type": "code",
   "execution_count": 16,
   "id": "078e70e6",
   "metadata": {},
   "outputs": [
    {
     "name": "stdout",
     "output_type": "stream",
     "text": [
      "{101: 'Virendra', 102: 'Neha', 105: 'Golu', 109: 'Reddy', 104: 'Ayush', 107: 'ASD'}\n"
     ]
    }
   ],
   "source": [
    "# add an item (key and value)\n",
    "stdrec [107] = 'ASD'\n",
    "print (stdrec)"
   ]
  },
  {
   "cell_type": "code",
   "execution_count": 17,
   "id": "29784054",
   "metadata": {},
   "outputs": [
    {
     "name": "stdout",
     "output_type": "stream",
     "text": [
      "<class 'list'>\n",
      "<class 'tuple'>\n",
      "<class 'set'>\n",
      "<class 'dict'>\n"
     ]
    }
   ],
   "source": [
    "a = []\n",
    "b = ()\n",
    "c = {()}\n",
    "d = {}\n",
    "\n",
    "print (type(a))\n",
    "print (type(b))\n",
    "print (type(c))\n",
    "print (type(d))"
   ]
  },
  {
   "cell_type": "code",
   "execution_count": 18,
   "id": "0da225dc",
   "metadata": {},
   "outputs": [
    {
     "name": "stdout",
     "output_type": "stream",
     "text": [
      "<class 'list'>\n",
      "<class 'tuple'>\n",
      "<class 'set'>\n",
      "<class 'dict'>\n",
      "<class 'array.array'>\n"
     ]
    }
   ],
   "source": [
    "a = list ()\n",
    "b = tuple ()\n",
    "c = set ()\n",
    "d = dict ()\n",
    "import array as ar\n",
    "e = ar.array (\"i\", [])\n",
    "\n",
    "print (type(a))\n",
    "print (type(b))\n",
    "print (type(c))\n",
    "print (type(d))\n",
    "print (type(e))"
   ]
  },
  {
   "cell_type": "code",
   "execution_count": 19,
   "id": "03839a2f",
   "metadata": {},
   "outputs": [
    {
     "name": "stdout",
     "output_type": "stream",
     "text": [
      "{4: 'viren', 8: 'gui', 5: 'wer'}\n"
     ]
    }
   ],
   "source": [
    "t = {4:'viren', 8:'gui', 5:'wer'}\n",
    "print (t)"
   ]
  },
  {
   "cell_type": "code",
   "execution_count": 20,
   "id": "d81d95e0",
   "metadata": {},
   "outputs": [
    {
     "name": "stdout",
     "output_type": "stream",
     "text": [
      "3\n"
     ]
    }
   ],
   "source": [
    "print (len(t))"
   ]
  },
  {
   "cell_type": "code",
   "execution_count": 21,
   "id": "e02a01e4",
   "metadata": {},
   "outputs": [
    {
     "name": "stdout",
     "output_type": "stream",
     "text": [
      "{12: 'Viren', 23: 'Neha', 90: 'bhu', 34: 'qwe', 78: 'qwe'}\n"
     ]
    }
   ],
   "source": [
    "d1 = {12:'Viren', 23:'Type', 90:'bhu', 34:'qwe', 23:'Neha', 78:'qwe'}\n",
    "print (d1)"
   ]
  },
  {
   "cell_type": "code",
   "execution_count": 22,
   "id": "c70052cd",
   "metadata": {},
   "outputs": [
    {
     "name": "stdout",
     "output_type": "stream",
     "text": [
      "{12: 'Viren', 23: 'Neha', 90: 'bhu', 34: 'qwe', 78: 'qwe', '23': 'Type'}\n"
     ]
    }
   ],
   "source": [
    "d1 = {12:'Viren', 23:'Type', 90:'bhu', 34:'qwe', 23:'Neha', 78:'qwe', '23':'Type'}\n",
    "print (d1)"
   ]
  },
  {
   "cell_type": "code",
   "execution_count": 23,
   "id": "fc07fed0",
   "metadata": {},
   "outputs": [
    {
     "name": "stdout",
     "output_type": "stream",
     "text": [
      "{'n': '777', 99: 999, 97: [5, 4, 6], 21: (6, 4, 7), 89: 54, 54: 89}\n"
     ]
    }
   ],
   "source": [
    "d2 = {'n':'777', 99:999, 97:[5,4,6], 21:(6,4,7), 89:54, 54:89}\n",
    "print (d2)"
   ]
  },
  {
   "cell_type": "code",
   "execution_count": 24,
   "id": "3bb02b2c",
   "metadata": {},
   "outputs": [
    {
     "name": "stdout",
     "output_type": "stream",
     "text": [
      "{'n': '777', 99: 999, 97: [5, 4, 6], 21: (6, 4, 7), 89: 54, 54: 89, (6, 4, 6): 'hello', 89.5455: 87445}\n"
     ]
    }
   ],
   "source": [
    "d2 = {'n':'777', 99:999, 97:[5,4,6], 21:(6,4,7), 89:54, 54:89, (6,4,6):'hello',\n",
    "      89.5455:87445}\n",
    "print (d2)\n",
    "# Key can not be a 'list' or 'set' type but these can be a value.\n",
    "# A tuple can be a key or value, both."
   ]
  },
  {
   "cell_type": "code",
   "execution_count": 25,
   "id": "b101cd70",
   "metadata": {},
   "outputs": [
    {
     "name": "stdout",
     "output_type": "stream",
     "text": [
      "{7: 889, 'q': 899, 8: 4, 9: 1}\n",
      "<class 'dict'>\n"
     ]
    }
   ],
   "source": [
    "# using dict ()\n",
    "a = dict ({7:889, 'q':899, 8:4, 9:1})\n",
    "print (a)\n",
    "print (type(a))"
   ]
  },
  {
   "cell_type": "code",
   "execution_count": 26,
   "id": "c56954c2",
   "metadata": {},
   "outputs": [
    {
     "name": "stdout",
     "output_type": "stream",
     "text": [
      "{101: 'Virendra', 102: 'Neha', 103: 'Golu', 104: 'Jia', 105: 'Reddy', 106: 'Reva', 108: 'Scorpian', 109: 'Snale', 110: 'Cobra'}\n"
     ]
    }
   ],
   "source": [
    "# Create a dictionary of 10 students reg. nos. and their names\n",
    "# key:value ---> regno:name\n",
    "stdrec = {101: 'Virendra',\n",
    "         102: 'Neha',\n",
    "         103:'Golu',\n",
    "         104: 'Jia', \n",
    "         105:'Reddy',\n",
    "         106: 'Reva',\n",
    "         108: 'Scorpian',\n",
    "         109: 'Snale',\n",
    "         110: 'Cobra'}\n",
    "print (stdrec)"
   ]
  },
  {
   "cell_type": "code",
   "execution_count": 27,
   "id": "883f1045",
   "metadata": {},
   "outputs": [
    {
     "name": "stdout",
     "output_type": "stream",
     "text": [
      "Reddy\n",
      "Reddy\n"
     ]
    }
   ],
   "source": [
    "t = stdrec[105]\n",
    "print (t)\n",
    "\n",
    "t1 = stdrec.get (105)\n",
    "print (t1)"
   ]
  },
  {
   "cell_type": "code",
   "execution_count": 28,
   "id": "d2ca09de",
   "metadata": {},
   "outputs": [
    {
     "ename": "KeyError",
     "evalue": "107",
     "output_type": "error",
     "traceback": [
      "\u001b[1;31m---------------------------------------------------------------------------\u001b[0m",
      "\u001b[1;31mKeyError\u001b[0m                                  Traceback (most recent call last)",
      "Input \u001b[1;32mIn [28]\u001b[0m, in \u001b[0;36m<cell line: 1>\u001b[1;34m()\u001b[0m\n\u001b[1;32m----> 1\u001b[0m t2 \u001b[38;5;241m=\u001b[39m \u001b[43mstdrec\u001b[49m\u001b[43m[\u001b[49m\u001b[38;5;241;43m107\u001b[39;49m\u001b[43m]\u001b[49m\n\u001b[0;32m      2\u001b[0m \u001b[38;5;28mprint\u001b[39m (t2)\n",
      "\u001b[1;31mKeyError\u001b[0m: 107"
     ]
    }
   ],
   "source": [
    "t2 = stdrec[107]\n",
    "print (t2)"
   ]
  },
  {
   "cell_type": "code",
   "execution_count": 29,
   "id": "f054c250",
   "metadata": {},
   "outputs": [
    {
     "name": "stdout",
     "output_type": "stream",
     "text": [
      "{101: 'Virendra', 102: 'Neha', 103: 'Golu', 104: 'Jia', 105: 'Reddy', 106: 'Reva', 108: 'Scorpian', 109: 'Snale', 110: 'Cobra'}\n",
      "Enter the registration no.: 104\n",
      "Jia\n"
     ]
    }
   ],
   "source": [
    "print (stdrec)\n",
    "reg = int (input (\"Enter the registration no.: \"))\n",
    "res = stdrec[reg]\n",
    "print (res)"
   ]
  },
  {
   "cell_type": "code",
   "execution_count": 30,
   "id": "2fcfcadf",
   "metadata": {},
   "outputs": [
    {
     "name": "stdout",
     "output_type": "stream",
     "text": [
      "{101: 'Virendra', 102: 'Neha', 103: 'Golu', 104: 'Jia', 105: 'Reddy', 106: 'Reva', 108: 'Scorpian', 109: 'Snale', 110: 'Cobra'}\n",
      "{101: 'Virendra', 102: 'Neha', 103: 'Golu', 104: 'Jia', 105: 'Reddy', 106: 'Reva', 108: 'Scorpian', 109: 'Snale', 110: 'Python'}\n"
     ]
    }
   ],
   "source": [
    "# update the value\n",
    "print (stdrec)\n",
    "stdrec[110] = 'Python'\n",
    "print (stdrec)"
   ]
  },
  {
   "cell_type": "code",
   "execution_count": 31,
   "id": "3a299ce9",
   "metadata": {},
   "outputs": [
    {
     "name": "stdout",
     "output_type": "stream",
     "text": [
      "{101: 'Virendra', 102: 'Neha', 103: 'Golu', 104: 'Jia', 105: 'Reddy', 106: 'Reva', 108: 'Scorpian', 109: 'Snale', 110: 'Python', 111: 'Good'}\n"
     ]
    }
   ],
   "source": [
    "# add an item (key:value)\n",
    "stdrec [111] = 'Good'\n",
    "print (stdrec)"
   ]
  },
  {
   "cell_type": "code",
   "execution_count": 32,
   "id": "e8a870fd",
   "metadata": {},
   "outputs": [
    {
     "name": "stdout",
     "output_type": "stream",
     "text": [
      "{101: 'Virendra', 102: 'Neha', 103: 'Golu', 104: 'Jia', 105: 'Reddy', 106: 'Reva', 108: 'Scorpian', 109: 'Snale', 110: 'Python', 111: 'Best'}\n"
     ]
    }
   ],
   "source": [
    "stdrec [111] = 'Best'\n",
    "print (stdrec)"
   ]
  },
  {
   "cell_type": "code",
   "execution_count": 33,
   "id": "000a65e0",
   "metadata": {},
   "outputs": [
    {
     "name": "stdout",
     "output_type": "stream",
     "text": [
      "{101: 'Virendra', 102: 'Neha', 103: 'Golu', 104: 'Jia', 105: 'Reddy', 106: 'Reva', 108: 'Scorpian', 109: 'Snale', 110: 'Python', 111: 'Best', '111': 'Best'}\n"
     ]
    }
   ],
   "source": [
    "stdrec ['111'] = 'Best'\n",
    "print (stdrec)"
   ]
  },
  {
   "cell_type": "code",
   "execution_count": 34,
   "id": "bb4c6705",
   "metadata": {},
   "outputs": [
    {
     "name": "stdout",
     "output_type": "stream",
     "text": [
      "{101: 'Virendra', 102: 'Neha', 103: 'Golu', 104: 'Jia', 105: 'Reddy', 106: 'Reva', 108: 'Scorpian', 109: 'Snale', 110: 'Python', 111: 'Best', '111': 'Best'}\n",
      "Enter the reg as key: 110\n",
      "You have entered already exist reg / key. Please add another one.\n",
      "No need to make a record.\n",
      "{101: 'Virendra', 102: 'Neha', 103: 'Golu', 104: 'Jia', 105: 'Reddy', 106: 'Reva', 108: 'Scorpian', 109: 'Snale', 110: 'Python', 111: 'Best', '111': 'Best'}\n"
     ]
    }
   ],
   "source": [
    "print (stdrec)\n",
    "k = int (input (\"Enter the reg as key: \"))\n",
    "flag = 0\n",
    "for c in stdrec:\n",
    "    #print (c==k)\n",
    "    if c == k: #101 == 194\n",
    "        print (\"You have entered already exist reg / key. Please add another one.\")\n",
    "        flag = 1\n",
    "\n",
    "if flag == 1:\n",
    "    print (\"No need to make a record.\")\n",
    "\n",
    "if flag == 0:\n",
    "    name = input (\"Enter student name: \")\n",
    "    stdrec[k] = name\n",
    "\n",
    "print (stdrec)        "
   ]
  },
  {
   "cell_type": "code",
   "execution_count": null,
   "id": "97145643",
   "metadata": {},
   "outputs": [],
   "source": []
  }
 ],
 "metadata": {
  "kernelspec": {
   "display_name": "Python 3 (ipykernel)",
   "language": "python",
   "name": "python3"
  },
  "language_info": {
   "codemirror_mode": {
    "name": "ipython",
    "version": 3
   },
   "file_extension": ".py",
   "mimetype": "text/x-python",
   "name": "python",
   "nbconvert_exporter": "python",
   "pygments_lexer": "ipython3",
   "version": "3.9.12"
  }
 },
 "nbformat": 4,
 "nbformat_minor": 5
}
