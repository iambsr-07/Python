{
 "cells": [
  {
   "cell_type": "code",
   "execution_count": null,
   "metadata": {},
   "outputs": [],
   "source": [
    "#Date ---> 14/11/2022\n",
    "# ASCII  VALUES \n",
    "\n",
    "print(\"bharat\")\n",
    "print(chr(200))\n",
    "print(chr(524))\n",
    "#WAP to print chracter  value from 100 to 150 in ascii value\n",
    "n=100\n",
    "while(n<=150):\n",
    "    print(n ,\":\", chr(n))\n",
    "    n=n+1\n",
    "\n",
    "\n",
    "#lists \n",
    "b =[2,3,4,5,6444,7,8]\n",
    "name =['bharat','bhola','ayush','aryan']\n",
    "print(b)\n",
    "\n",
    "\n",
    "#Replace\n",
    "name[2] ='ashu'\n",
    "print(name)\n",
    "\n",
    "#Remove\n",
    "del name[2]\n",
    "print(name)\n",
    "\n",
    "#Insert\n",
    "name.insert(1, 'ram')\n",
    "print(name)\n",
    "\n",
    "#Append\n",
    "name.append(\"shashwat\")\n",
    "print(name)\n",
    "\n",
    "#Sort\n",
    "b.sort()\n",
    "print(b)\n",
    "\n",
    "# Reverse  \n",
    "b.reverse()\n",
    "print(b)\n",
    "\n",
    "#homework\n",
    "# creating an list and testing all its functions  \n",
    "a=[2,22,43,5,3,3,45,6,6,6,7,78,8,8,9,456]\n",
    "#1) len()\n",
    "#2) list()\n",
    "#3) range()\n",
    "#4) sum()\n",
    "#5) min()\n",
    "#6) max()\n",
    "#7) sorted()\n",
    "#8) reversed()\n",
    "#9) enumerate()\n",
    "#10) zip()\n",
    "#11) map()\n",
    "#12) filter()\n",
    "#13) iter()\n",
    "#14) all()\n",
    "#15) any()\n",
    "print(a)\n",
    "print(len(a))\n",
    "print(max(a)) "
   ]
  }
 ],
 "metadata": {
  "kernelspec": {
   "display_name": "Python 3",
   "language": "python",
   "name": "python3"
  },
  "language_info": {
   "name": "python",
   "version": "3.11.0 (main, Oct 24 2022, 18:26:48) [MSC v.1933 64 bit (AMD64)]"
  },
  "orig_nbformat": 4,
  "vscode": {
   "interpreter": {
    "hash": "b6486d4b6c57b19583e9d0c47510e2d8c0c0f47bde759015cf22c5139ee6d241"
   }
  }
 },
 "nbformat": 4,
 "nbformat_minor": 2
}
