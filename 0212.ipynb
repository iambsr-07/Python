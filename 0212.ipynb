{
 "cells": [
  {
   "cell_type": "code",
   "execution_count": null,
   "metadata": {},
   "outputs": [],
   "source": [
    "# program for adding n mumber  in an empty list  \n",
    "a=[]\n",
    "n=int(input(\"how many number  you want to enter ===>\"))\n",
    "for i in range(n):\n",
    "    num=int(input(\"eneter the number  you want to add in the list\"))\n",
    "    a.append(num)\n",
    "print(a)"
   ]
  },
  {
   "cell_type": "code",
   "execution_count": null,
   "metadata": {},
   "outputs": [],
   "source": [
    "\n",
    "\n",
    "# functions ===>\n",
    "# swap 2 numbers without parameter (non-returning)\n",
    "def swap(a,b):\n",
    "    t=0\n",
    "    print(a)\n",
    "    print(b)\n",
    "    t=a\n",
    "    a=b\n",
    "    b=t\n",
    "    print(a)\n",
    "    print(b)\n",
    "swap(12,45)\n",
    "\n",
    "# swap 2 numbers without parameter (returning return)\n",
    "def swap(a,b):\n",
    "    t=0\n",
    "    print(a)\n",
    "    print(b)\n",
    "    t=a\n",
    "    a=b\n",
    "    b=t\n",
    "    print(a)\n",
    "    print(b)\n",
    "    return a,b\n",
    "t1 , t2 = swap(15,12)\n",
    "print(t1)\n",
    "print(t2)\n",
    " \n",
    "\n",
    "\n",
    "\n",
    "\n",
    "# with parameter returning\n",
    "# without parameter returning\n",
    "# with parameter  non returning\n",
    "# with parameter returning\n",
    "\n",
    "def square(n1):\n",
    "    s= n1**2\n",
    "    print(s)\n",
    "square(2)\n",
    "\n",
    "\n",
    "def square():\n",
    "    n1=2\n",
    "    s= n1**2\n",
    "    print(s)\n",
    "square()\n",
    "\n",
    "def square():\n",
    "    n1=2\n",
    "    s= n1**2\n",
    "    return square()\n"
   ]
  }
 ],
 "metadata": {
  "kernelspec": {
   "display_name": "Python 3",
   "language": "python",
   "name": "python3"
  },
  "language_info": {
   "name": "python",
   "version": "3.11.0 (main, Oct 24 2022, 18:26:48) [MSC v.1933 64 bit (AMD64)]"
  },
  "orig_nbformat": 4,
  "vscode": {
   "interpreter": {
    "hash": "b6486d4b6c57b19583e9d0c47510e2d8c0c0f47bde759015cf22c5139ee6d241"
   }
  }
 },
 "nbformat": 4,
 "nbformat_minor": 2
}
