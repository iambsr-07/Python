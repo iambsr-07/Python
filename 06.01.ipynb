{
 "cells": [
  {
   "attachments": {},
   "cell_type": "markdown",
   "metadata": {},
   "source": [
    "date ==> 06/01/2023         \n",
    "Topic ------ array manipulation"
   ]
  },
  {
   "cell_type": "code",
   "execution_count": null,
   "metadata": {},
   "outputs": [],
   "source": [
    "import array as b\n",
    "def revel(a,s,e): # revel== reversed list.\n",
    "    while (s<e):\n",
    "        e=e-1\n",
    "        a[s],a[e]=a[e],a[s]\n",
    "        s=s+1\n",
    "a=[1,2,5,6,2,788,8,8874,5,745,17,4,7,7]\n",
    "ar= b.array(\"i\",a)\n",
    "print(ar)\n",
    "revel(ar,0,10)\n",
    "print(ar)\n",
    "print(len(ar))"
   ]
  },
  {
   "cell_type": "code",
   "execution_count": null,
   "metadata": {},
   "outputs": [],
   "source": [
    "import array as b\n",
    "l=[]\n",
    "ar=b.array(\"i\",l)\n",
    "\n",
    "for i in range(5):\n",
    "    ele=int(input(\"enter the number you want to  add in the array ==>\"))\n",
    "    ar.append(ele)\n",
    "print(ar)\n",
    "\n",
    "n=int(input(\"enter number you want to find\"))\n",
    "flag=0\n",
    "for i in range (5):\n",
    "    if ar[i]==n:\n",
    "        flag = 1\n",
    "if flag==1:\n",
    "    print(\"number is found\")\n",
    "else:\n",
    "    print(\"number not found\")\n"
   ]
  },
  {
   "cell_type": "code",
   "execution_count": null,
   "metadata": {},
   "outputs": [],
   "source": [
    "ar.insert(0,555)\n",
    "print(ar)"
   ]
  },
  {
   "cell_type": "code",
   "execution_count": 22,
   "metadata": {},
   "outputs": [
    {
     "name": "stdout",
     "output_type": "stream",
     "text": [
      "6\n"
     ]
    },
    {
     "ename": "TypeError",
     "evalue": "'array.array' object is not callable",
     "output_type": "error",
     "traceback": [
      "\u001b[0;31m---------------------------------------------------------------------------\u001b[0m",
      "\u001b[0;31mTypeError\u001b[0m                                 Traceback (most recent call last)",
      "Cell \u001b[0;32mIn[22], line 7\u001b[0m\n\u001b[1;32m      5\u001b[0m c\u001b[39m=\u001b[39m \u001b[39mlen\u001b[39m(ar)\n\u001b[1;32m      6\u001b[0m \u001b[39mfor\u001b[39;00m i \u001b[39min\u001b[39;00m \u001b[39mrange\u001b[39m(c):\n\u001b[0;32m----> 7\u001b[0m     \u001b[39mprint\u001b[39m(ar(i))\n",
      "\u001b[0;31mTypeError\u001b[0m: 'array.array' object is not callable"
     ]
    }
   ],
   "source": [
    "import array as b \n",
    "l=[1,51,8,2,4,1]\n",
    "ar=b.array(\"i\",l)\n",
    "print(len(ar))\n",
    "c= len(ar)\n",
    "for i in range(c):\n",
    "    print(ar(i))\n",
    "    "
   ]
  },
  {
   "cell_type": "code",
   "execution_count": 23,
   "metadata": {},
   "outputs": [
    {
     "name": "stdout",
     "output_type": "stream",
     "text": [
      "[1, 2, 3, 4, 5, 6]\n"
     ]
    }
   ],
   "source": [
    "my_list = [1,1,2,3,2,2,4,5,6,2,1]\n",
    "my_final_list = set(my_list)\n",
    "print(list(my_final_list))"
   ]
  },
  {
   "cell_type": "code",
   "execution_count": 29,
   "metadata": {},
   "outputs": [
    {
     "ename": "SyntaxError",
     "evalue": "invalid syntax (1925225229.py, line 7)",
     "output_type": "error",
     "traceback": [
      "\u001b[0;36m  Cell \u001b[0;32mIn[29], line 7\u001b[0;36m\u001b[0m\n\u001b[0;31m    for i not in (temp_arr):\u001b[0m\n\u001b[0m          ^\u001b[0m\n\u001b[0;31mSyntaxError\u001b[0m\u001b[0;31m:\u001b[0m invalid syntax\n"
     ]
    }
   ],
   "source": [
    "# removing  duplicate elements usingh an  temporary array  \n",
    "import array as  b\n",
    "l=[5,4,8,2,45,7,35,12,2,20,15,7]\n",
    "my_arr=b.array(\"i\",l)\n",
    "temp_arr=[]\n",
    "for  i in (l):\n",
    "     for i not in (temp_arr):\n",
    "        temp_arr.append(i)\n",
    "print=(temp_arr)"
   ]
  },
  {
   "attachments": {},
   "cell_type": "markdown",
   "metadata": {},
   "source": [
    "the end milte hai monday ko"
   ]
  }
 ],
 "metadata": {
  "kernelspec": {
   "display_name": "Python 3",
   "language": "python",
   "name": "python3"
  },
  "language_info": {
   "codemirror_mode": {
    "name": "ipython",
    "version": 3
   },
   "file_extension": ".py",
   "mimetype": "text/x-python",
   "name": "python",
   "nbconvert_exporter": "python",
   "pygments_lexer": "ipython3",
   "version": "3.11.0rc1 (main, Aug 12 2022, 10:02:14) [GCC 11.2.0]"
  },
  "orig_nbformat": 4,
  "vscode": {
   "interpreter": {
    "hash": "ead1b95f633dc9c51826328e1846203f51a198c6fb5f2884a80417ba131d4e82"
   }
  }
 },
 "nbformat": 4,
 "nbformat_minor": 2
}
