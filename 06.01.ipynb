{
 "cells": [
  {
   "cell_type": "code",
   "execution_count": 4,
   "id": "a6ebfa2d",
   "metadata": {},
   "outputs": [
    {
     "name": "stdout",
     "output_type": "stream",
     "text": [
      "array('i', [21, 42, 13, 54, 65, 96, 27, 18, 99, 10])\n",
      "array('i', [10, 99, 18, 27, 96, 65, 54, 13, 42, 21])\n"
     ]
    }
   ],
   "source": [
    "# Program to print reverse order of an array and a string\n",
    "import array as xyz\n",
    "#defining reverse list function\n",
    "def reverselist (a,s,e): # a will keep the information from 'ar' variable\n",
    "    while (s<e): #s=0 is a starting index value, e=10 as an ending index\n",
    "        e=e-1 #10-1 = 9 which is the last indexed value\n",
    "        a[s],a[e] = a[e],a[s]\n",
    "        #e=e-1 \n",
    "        s=s+1\n",
    "\n",
    "        # initialize array variable with its elements\n",
    "a = [21,42,13,54,65,96,27,18,99,10]\n",
    "ar = xyz.array('i',a) # ar is array variable\n",
    "\n",
    "#printing array\n",
    "print (ar)\n",
    "\n",
    "# calling a function to reverse an array or a string\n",
    "#reverselist (ar,0,10)\n",
    "#reverselist (ar,0,9)\n",
    "reverselist (ar,0,len(ar))\n",
    "\n",
    "#printing reverse array\n",
    "print (ar)"
   ]
  },
  {
   "cell_type": "code",
   "execution_count": 7,
   "id": "8b748232",
   "metadata": {},
   "outputs": [
    {
     "name": "stdout",
     "output_type": "stream",
     "text": [
      "array('i')\n",
      "Let us take 5 numbers\n",
      "878\n",
      "12\n",
      "1\n",
      "45\n",
      "55\n",
      "array('i', [878, 12, 1, 45, 55])\n",
      "Enter your number to be found:45\n",
      "Number is found\n",
      "Found\n",
      "Found\n",
      "Found\n",
      "Found\n",
      "Found\n"
     ]
    }
   ],
   "source": [
    "import array as myar\n",
    "\n",
    "x = myar.array (\"i\")\n",
    "print (x)\n",
    "print (\"Let us take 5 numbers\")\n",
    "for i in range (5):\n",
    "    num = int (input ())\n",
    "    x.append(num)\n",
    "\n",
    "print (x)\n",
    "\n",
    "z = int (input (\"Enter your number to be found:\"))\n",
    "flag = 0\n",
    "\n",
    "for i in range (5):\n",
    "    if x[i] == z:\n",
    "        flag = 1\n",
    "\n",
    "if flag == 1:\n",
    "    print (\"Number is found\")\n",
    "else:\n",
    "    print (\"Number is NOT found\")"
   ]
  },
  {
   "cell_type": "markdown",
   "id": "cbfae4a8",
   "metadata": {},
   "source": []
  },
  {
   "cell_type": "code",
   "execution_count": 12,
   "id": "b6932748",
   "metadata": {},
   "outputs": [
    {
     "name": "stdout",
     "output_type": "stream",
     "text": [
      "10\n",
      "5\n"
     ]
    }
   ],
   "source": [
    "print (len(ar))\n",
    "print (len(x))\n"
   ]
  },
  {
   "cell_type": "code",
   "execution_count": 13,
   "id": "361680fa",
   "metadata": {},
   "outputs": [
    {
     "name": "stdout",
     "output_type": "stream",
     "text": [
      "array('i', [45, 96, 78, 12, 35, 999])\n"
     ]
    }
   ],
   "source": [
    "x.append (999)\n",
    "print (x)\n"
   ]
  },
  {
   "cell_type": "code",
   "execution_count": 14,
   "id": "38ede587",
   "metadata": {},
   "outputs": [
    {
     "name": "stdout",
     "output_type": "stream",
     "text": [
      "array('i', [45, 96, 78, 55555, 12, 35, 999])\n"
     ]
    }
   ],
   "source": [
    "x.insert (3, 55555)\n",
    "print (x)"
   ]
  },
  {
   "cell_type": "code",
   "execution_count": 16,
   "id": "82d53a1c",
   "metadata": {},
   "outputs": [
    {
     "name": "stdout",
     "output_type": "stream",
     "text": [
      "array('i', [45, 96, 78, 55555, 12, 7878, 7878, 35, 999])\n"
     ]
    }
   ],
   "source": [
    "x.insert (-2, 7878)\n",
    "print (x)"
   ]
  },
  {
   "cell_type": "code",
   "execution_count": 18,
   "id": "b203e667",
   "metadata": {},
   "outputs": [
    {
     "name": "stdout",
     "output_type": "stream",
     "text": [
      "5\n"
     ]
    },
    {
     "ename": "ValueError",
     "evalue": "array.index(x): x not in array",
     "output_type": "error",
     "traceback": [
      "\u001b[1;31m---------------------------------------------------------------------------\u001b[0m",
      "\u001b[1;31mValueError\u001b[0m                                Traceback (most recent call last)",
      "Input \u001b[1;32mIn [18]\u001b[0m, in \u001b[0;36m<cell line: 2>\u001b[1;34m()\u001b[0m\n\u001b[0;32m      1\u001b[0m \u001b[38;5;28mprint\u001b[39m (x\u001b[38;5;241m.\u001b[39mindex (\u001b[38;5;241m7878\u001b[39m))\n\u001b[1;32m----> 2\u001b[0m \u001b[38;5;28mprint\u001b[39m (\u001b[43mx\u001b[49m\u001b[38;5;241;43m.\u001b[39;49m\u001b[43mindex\u001b[49m\u001b[43m(\u001b[49m\u001b[38;5;241;43m777\u001b[39;49m\u001b[43m)\u001b[49m)\n",
      "\u001b[1;31mValueError\u001b[0m: array.index(x): x not in array"
     ]
    }
   ],
   "source": [
    "print (x.index (7878))\n",
    "print (x.index(777))\n"
   ]
  },
  {
   "cell_type": "code",
   "execution_count": 26,
   "id": "4f5e0a9f",
   "metadata": {},
   "outputs": [
    {
     "name": "stdout",
     "output_type": "stream",
     "text": [
      "2\n",
      "1\n"
     ]
    }
   ],
   "source": [
    "print (x.count (7878))\n",
    "print (x.count (45))"
   ]
  },
  {
   "cell_type": "code",
   "execution_count": 8,
   "id": "fd346040",
   "metadata": {},
   "outputs": [
    {
     "name": "stdout",
     "output_type": "stream",
     "text": [
      "array('i', [88, 45, 66, 22, 77])\n"
     ]
    }
   ],
   "source": [
    "import array as t\n",
    "x = t.array (\"i\", [88, 45, 66, 22, 77])\n",
    "print (x)"
   ]
  },
  {
   "cell_type": "code",
   "execution_count": 9,
   "id": "5cfb7e45",
   "metadata": {},
   "outputs": [
    {
     "name": "stdout",
     "output_type": "stream",
     "text": [
      "array('i', [88, 45, 66, 22, 77, 6464])\n"
     ]
    }
   ],
   "source": [
    "x.append (6464)\n",
    "print (x)"
   ]
  },
  {
   "cell_type": "code",
   "execution_count": 10,
   "id": "caf13d84",
   "metadata": {},
   "outputs": [
    {
     "name": "stdout",
     "output_type": "stream",
     "text": [
      "array('i', [88, 45, 66, 1010, 22, 77, 6464])\n"
     ]
    }
   ],
   "source": [
    "x.insert (3, 1010)\n",
    "print (x)"
   ]
  },
  {
   "cell_type": "code",
   "execution_count": 11,
   "id": "a99a4a59",
   "metadata": {},
   "outputs": [
    {
     "name": "stdout",
     "output_type": "stream",
     "text": [
      "array('i', [88, 45, 66, 1010, 1245, 22, 77, 6464])\n"
     ]
    }
   ],
   "source": [
    "x.insert (-3, 1245)\n",
    "print (x)"
   ]
  },
  {
   "cell_type": "code",
   "execution_count": 14,
   "id": "3885ae1b",
   "metadata": {},
   "outputs": [
    {
     "name": "stdout",
     "output_type": "stream",
     "text": [
      "array('i', [88, 45, 66, 1010, 1245, 22, 77, 987, 6464, 987, 1457])\n"
     ]
    }
   ],
   "source": [
    "x.insert (len(x), 1457) # insert always at the last\n",
    "print (x)"
   ]
  },
  {
   "cell_type": "code",
   "execution_count": 15,
   "id": "3092a1cd",
   "metadata": {},
   "outputs": [
    {
     "data": {
      "text/plain": [
       "5"
      ]
     },
     "execution_count": 15,
     "metadata": {},
     "output_type": "execute_result"
    }
   ],
   "source": [
    "# remove (element value)\n",
    "# pop (index value)\n",
    "\n",
    "# To know index value of an element from an array\n",
    "x.index (22) # element or value"
   ]
  },
  {
   "cell_type": "code",
   "execution_count": 16,
   "id": "c24e7bd3",
   "metadata": {},
   "outputs": [
    {
     "ename": "ValueError",
     "evalue": "array.index(x): x not in array",
     "output_type": "error",
     "traceback": [
      "\u001b[1;31m---------------------------------------------------------------------------\u001b[0m",
      "\u001b[1;31mValueError\u001b[0m                                Traceback (most recent call last)",
      "Input \u001b[1;32mIn [16]\u001b[0m, in \u001b[0;36m<cell line: 1>\u001b[1;34m()\u001b[0m\n\u001b[1;32m----> 1\u001b[0m \u001b[43mx\u001b[49m\u001b[38;5;241;43m.\u001b[39;49m\u001b[43mindex\u001b[49m\u001b[43m \u001b[49m\u001b[43m(\u001b[49m\u001b[38;5;241;43m90909\u001b[39;49m\u001b[43m)\u001b[49m\n",
      "\u001b[1;31mValueError\u001b[0m: array.index(x): x not in array"
     ]
    }
   ],
   "source": [
    "x.index (90909)"
   ]
  },
  {
   "cell_type": "code",
   "execution_count": 17,
   "id": "c1ab6095",
   "metadata": {},
   "outputs": [
    {
     "data": {
      "text/plain": [
       "0"
      ]
     },
     "execution_count": 17,
     "metadata": {},
     "output_type": "execute_result"
    }
   ],
   "source": [
    "x.count (90909)"
   ]
  },
  {
   "cell_type": "code",
   "execution_count": 18,
   "id": "60634d98",
   "metadata": {},
   "outputs": [
    {
     "data": {
      "text/plain": [
       "1"
      ]
     },
     "execution_count": 18,
     "metadata": {},
     "output_type": "execute_result"
    }
   ],
   "source": [
    "x.count (77)"
   ]
  },
  {
   "cell_type": "code",
   "execution_count": 19,
   "id": "ccbbd8c0",
   "metadata": {},
   "outputs": [
    {
     "name": "stdout",
     "output_type": "stream",
     "text": [
      "array('i', [88, 45, 66, 1010, 1245, 22, 77, 987, 6464, 987, 1457])\n",
      "1\n",
      "array('i', [88, 45, 66, 1010, 1245, 22, 77, 987, 6464, 987, 1457, 77])\n",
      "2\n"
     ]
    }
   ],
   "source": [
    "print (x)\n",
    "print (x.count (77))\n",
    "x.append (77)\n",
    "print (x)\n",
    "print (x.count (77))\n"
   ]
  },
  {
   "cell_type": "code",
   "execution_count": null,
   "id": "35bfe753",
   "metadata": {},
   "outputs": [],
   "source": []
  }
 ],
 "metadata": {
  "kernelspec": {
   "display_name": "Python 3 (ipykernel)",
   "language": "python",
   "name": "python3"
  },
  "language_info": {
   "codemirror_mode": {
    "name": "ipython",
    "version": 3
   },
   "file_extension": ".py",
   "mimetype": "text/x-python",
   "name": "python",
   "nbconvert_exporter": "python",
   "pygments_lexer": "ipython3",
   "version": "3.9.12"
  }
 },
 "nbformat": 4,
 "nbformat_minor": 5
}
