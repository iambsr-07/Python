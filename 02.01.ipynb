{
 "cells": [
  {
   "cell_type": "code",
   "execution_count": 3,
   "id": "1591472c",
   "metadata": {},
   "outputs": [
    {
     "name": "stdout",
     "output_type": "stream",
     "text": [
      "<module 'array' (built-in)>\n",
      "array('d', [2.0, 4.0, 6.5, 8.3, 7.0])\n"
     ]
    }
   ],
   "source": [
    "import array as v\n",
    "a = v.array ('d',[2,4, 6.5, 8.3, 7])\n",
    "print (v)\n",
    "print (a)"
   ]
  },
  {
   "cell_type": "code",
   "execution_count": 4,
   "id": "e9f6dc72",
   "metadata": {},
   "outputs": [
    {
     "ename": "TypeError",
     "evalue": "must be real number, not str",
     "output_type": "error",
     "traceback": [
      "\u001b[1;31m---------------------------------------------------------------------------\u001b[0m",
      "\u001b[1;31mTypeError\u001b[0m                                 Traceback (most recent call last)",
      "Input \u001b[1;32mIn [4]\u001b[0m, in \u001b[0;36m<cell line: 2>\u001b[1;34m()\u001b[0m\n\u001b[0;32m      1\u001b[0m \u001b[38;5;28;01mimport\u001b[39;00m \u001b[38;5;21;01marray\u001b[39;00m \u001b[38;5;28;01mas\u001b[39;00m \u001b[38;5;21;01mv\u001b[39;00m\n\u001b[1;32m----> 2\u001b[0m a \u001b[38;5;241m=\u001b[39m \u001b[43mv\u001b[49m\u001b[38;5;241;43m.\u001b[39;49m\u001b[43marray\u001b[49m\u001b[43m \u001b[49m\u001b[43m(\u001b[49m\u001b[38;5;124;43m'\u001b[39;49m\u001b[38;5;124;43md\u001b[39;49m\u001b[38;5;124;43m'\u001b[39;49m\u001b[43m,\u001b[49m\u001b[43m[\u001b[49m\u001b[38;5;241;43m2\u001b[39;49m\u001b[43m,\u001b[49m\u001b[38;5;241;43m4\u001b[39;49m\u001b[43m,\u001b[49m\u001b[43m \u001b[49m\u001b[38;5;241;43m6.5\u001b[39;49m\u001b[43m,\u001b[49m\u001b[43m \u001b[49m\u001b[38;5;241;43m8.3\u001b[39;49m\u001b[43m,\u001b[49m\u001b[43m \u001b[49m\u001b[38;5;241;43m7\u001b[39;49m\u001b[43m,\u001b[49m\u001b[43m \u001b[49m\u001b[38;5;124;43m\"\u001b[39;49m\u001b[38;5;124;43mvsk\u001b[39;49m\u001b[38;5;124;43m\"\u001b[39;49m\u001b[43m]\u001b[49m\u001b[43m)\u001b[49m\n\u001b[0;32m      3\u001b[0m \u001b[38;5;28mprint\u001b[39m (v)\n\u001b[0;32m      4\u001b[0m \u001b[38;5;28mprint\u001b[39m (a)\n",
      "\u001b[1;31mTypeError\u001b[0m: must be real number, not str"
     ]
    }
   ],
   "source": [
    "import array as v\n",
    "a = v.array ('d',[2,4, 6.5, 8.3, 7, \"vsk\"])\n",
    "print (v)\n",
    "print (a)"
   ]
  },
  {
   "cell_type": "code",
   "execution_count": 10,
   "id": "60f0c7c9",
   "metadata": {},
   "outputs": [
    {
     "name": "stdout",
     "output_type": "stream",
     "text": [
      "array('B', [123, 255])\n"
     ]
    }
   ],
   "source": [
    "import array as x\n",
    "#t = x.array('b',[123, 128]) # b = -128 to 127\n",
    "t = x.array('B',[123, 255]) # B = 0 to 255\n",
    "print (t)"
   ]
  },
  {
   "cell_type": "code",
   "execution_count": 11,
   "id": "cfe609be",
   "metadata": {},
   "outputs": [
    {
     "name": "stdout",
     "output_type": "stream",
     "text": [
      "First element: 2\n",
      "Second element: 4\n",
      "Last element: 8\n"
     ]
    }
   ],
   "source": [
    "import array as arr\n",
    "a = arr.array('i', [2, 4, 6, 8])\n",
    "\n",
    "print(\"First element:\", a[0])\n",
    "print(\"Second element:\", a[1])\n",
    "print(\"Last element:\", a[-1])\n"
   ]
  },
  {
   "cell_type": "code",
   "execution_count": 23,
   "id": "3b2a4a8f",
   "metadata": {},
   "outputs": [
    {
     "name": "stdout",
     "output_type": "stream",
     "text": [
      "First element: 2.700000047683716\n",
      "Second element: 1.5\n",
      "Last element: 1.5\n",
      "First element: 2.9\n",
      "Second element: 4.9\n",
      "Last element: 8.9\n"
     ]
    }
   ],
   "source": [
    "import array as arr\n",
    "a = arr.array('f', [2.7, 1.5, 6.8, 8.5])\n",
    "b = arr.array ('d', [2.9, 4.9, 6.1, 8.9])\n",
    "\n",
    "print(\"First element:\", a[0])\n",
    "print(\"Second element:\", a[1])\n",
    "print(\"Last element:\", a[-3])\n",
    "\n",
    "print(\"First element:\", b[0])\n",
    "print(\"Second element:\", b[1])\n",
    "print(\"Last element:\", b[-1])\n"
   ]
  },
  {
   "cell_type": "code",
   "execution_count": 28,
   "id": "9ba2c719",
   "metadata": {},
   "outputs": [
    {
     "name": "stdout",
     "output_type": "stream",
     "text": [
      "array('i', [62, 5, 42])\n",
      "array('i', [2, 5, 62])\n",
      "array('i', [52, 48, 5])\n",
      "array('i', [2, 5, 62, 5, 42, 52, 48, 5])\n",
      "array('i', [62, 42])\n"
     ]
    }
   ],
   "source": [
    "import array as arr\n",
    "\n",
    "numbers_list = [2, 5, 62, 5, 42, 52, 48, 5]\n",
    "numbers_array = arr.array('i', numbers_list)\n",
    "\n",
    "print(numbers_array[2:5]) # 3rd to 5th\n",
    "print(numbers_array[:-5]) # beginning to 4th\n",
    "print(numbers_array[5:])  # 6th to end\n",
    "print(numbers_array[:])   # beginning to end\n",
    "\n",
    "print(numbers_array[2:5:2]) # 3rd to 5th with step 2"
   ]
  },
  {
   "cell_type": "code",
   "execution_count": 31,
   "id": "e4d60f3e",
   "metadata": {},
   "outputs": [
    {
     "name": "stdout",
     "output_type": "stream",
     "text": [
      "array('i', [1, 2, 3, 5, 7, 10])\n",
      "array('i', [0, 2, 3, 5, 7, 10])\n",
      "array('i', [0, 2, 4, 6, 8, 10])\n"
     ]
    }
   ],
   "source": [
    "import array as arr\n",
    "\n",
    "numbers = arr.array('i', [1, 2, 3, 5, 7, 10])\n",
    "\n",
    "print (numbers)\n",
    "# changing first element\n",
    "numbers[0] = 0    \n",
    "print(numbers)     # Output: array('i', [0, 2, 3, 5, 7, 10])\n",
    "\n",
    "# changing 3rd to 5th element\n",
    "numbers[2:5] = arr.array('i', [4, 6, 8])   \n",
    "print(numbers)     # Output: array('i', [0, 2, 4, 6, 8, 10])\n",
    "\n",
    "# numbers[6] = 999 # out of index"
   ]
  },
  {
   "cell_type": "code",
   "execution_count": 1,
   "id": "775797eb",
   "metadata": {},
   "outputs": [
    {
     "name": "stdout",
     "output_type": "stream",
     "text": [
      "<module 'array' (built-in)>\n",
      "array('d', [5.4, 8.0, 9.4, 6.7, 2.0, 7.0])\n"
     ]
    }
   ],
   "source": [
    "# Array\n",
    "import array as m\n",
    "x = m.array ('d', [5.4, 8, 9.4, 6.7, 2, 7])\n",
    "print (m)\n",
    "print (x)"
   ]
  },
  {
   "cell_type": "code",
   "execution_count": 2,
   "id": "a6b046fe",
   "metadata": {},
   "outputs": [
    {
     "ename": "TypeError",
     "evalue": "integer argument expected, got float",
     "output_type": "error",
     "traceback": [
      "\u001b[1;31m---------------------------------------------------------------------------\u001b[0m",
      "\u001b[1;31mTypeError\u001b[0m                                 Traceback (most recent call last)",
      "Input \u001b[1;32mIn [2]\u001b[0m, in \u001b[0;36m<cell line: 2>\u001b[1;34m()\u001b[0m\n\u001b[0;32m      1\u001b[0m \u001b[38;5;28;01mimport\u001b[39;00m \u001b[38;5;21;01marray\u001b[39;00m \u001b[38;5;28;01mas\u001b[39;00m \u001b[38;5;21;01mm\u001b[39;00m\n\u001b[1;32m----> 2\u001b[0m x \u001b[38;5;241m=\u001b[39m \u001b[43mm\u001b[49m\u001b[38;5;241;43m.\u001b[39;49m\u001b[43marray\u001b[49m\u001b[43m \u001b[49m\u001b[43m(\u001b[49m\u001b[38;5;124;43m'\u001b[39;49m\u001b[38;5;124;43mi\u001b[39;49m\u001b[38;5;124;43m'\u001b[39;49m\u001b[43m,\u001b[49m\u001b[43m \u001b[49m\u001b[43m[\u001b[49m\u001b[38;5;241;43m5.4\u001b[39;49m\u001b[43m,\u001b[49m\u001b[43m \u001b[49m\u001b[38;5;241;43m8\u001b[39;49m\u001b[43m,\u001b[49m\u001b[43m \u001b[49m\u001b[38;5;241;43m9.4\u001b[39;49m\u001b[43m,\u001b[49m\u001b[43m \u001b[49m\u001b[38;5;241;43m6.7\u001b[39;49m\u001b[43m,\u001b[49m\u001b[43m \u001b[49m\u001b[38;5;241;43m2\u001b[39;49m\u001b[43m,\u001b[49m\u001b[43m \u001b[49m\u001b[38;5;241;43m7\u001b[39;49m\u001b[43m]\u001b[49m\u001b[43m)\u001b[49m\n\u001b[0;32m      3\u001b[0m \u001b[38;5;28mprint\u001b[39m (m)\n\u001b[0;32m      4\u001b[0m \u001b[38;5;28mprint\u001b[39m (x)\n",
      "\u001b[1;31mTypeError\u001b[0m: integer argument expected, got float"
     ]
    }
   ],
   "source": [
    "import array as m\n",
    "x = m.array ('i', [5.4, 8, 9.4, 6.7, 2, 7])\n",
    "print (m)\n",
    "print (x)"
   ]
  },
  {
   "cell_type": "code",
   "execution_count": 6,
   "id": "e869bca3",
   "metadata": {},
   "outputs": [
    {
     "ename": "OverflowError",
     "evalue": "unsigned byte integer is greater than maximum",
     "output_type": "error",
     "traceback": [
      "\u001b[1;31m---------------------------------------------------------------------------\u001b[0m",
      "\u001b[1;31mOverflowError\u001b[0m                             Traceback (most recent call last)",
      "Input \u001b[1;32mIn [6]\u001b[0m, in \u001b[0;36m<cell line: 2>\u001b[1;34m()\u001b[0m\n\u001b[0;32m      1\u001b[0m \u001b[38;5;28;01mimport\u001b[39;00m \u001b[38;5;21;01marray\u001b[39;00m \u001b[38;5;28;01mas\u001b[39;00m \u001b[38;5;21;01mt\u001b[39;00m\n\u001b[1;32m----> 2\u001b[0m x \u001b[38;5;241m=\u001b[39m \u001b[43mt\u001b[49m\u001b[38;5;241;43m.\u001b[39;49m\u001b[43marray\u001b[49m\u001b[43m \u001b[49m\u001b[43m(\u001b[49m\u001b[38;5;124;43m'\u001b[39;49m\u001b[38;5;124;43mB\u001b[39;49m\u001b[38;5;124;43m'\u001b[39;49m\u001b[43m,\u001b[49m\u001b[43m \u001b[49m\u001b[43m[\u001b[49m\u001b[38;5;241;43m56\u001b[39;49m\u001b[43m,\u001b[49m\u001b[43m \u001b[49m\u001b[38;5;241;43m67\u001b[39;49m\u001b[43m,\u001b[49m\u001b[43m \u001b[49m\u001b[38;5;241;43m12\u001b[39;49m\u001b[43m,\u001b[49m\u001b[43m \u001b[49m\u001b[38;5;241;43m256\u001b[39;49m\u001b[43m]\u001b[49m\u001b[43m)\u001b[49m\n\u001b[0;32m      3\u001b[0m \u001b[38;5;28mprint\u001b[39m (x)\n",
      "\u001b[1;31mOverflowError\u001b[0m: unsigned byte integer is greater than maximum"
     ]
    }
   ],
   "source": [
    "import array as t\n",
    "x = t.array ('B', [56, 67, 12, 256]) # 0 to 255\n",
    "print (x)"
   ]
  },
  {
   "cell_type": "code",
   "execution_count": 10,
   "id": "577cfbef",
   "metadata": {},
   "outputs": [
    {
     "name": "stdout",
     "output_type": "stream",
     "text": [
      "First element: -2\n",
      "Second element: 4\n",
      "Last element: 4\n"
     ]
    }
   ],
   "source": [
    "import array as arr\n",
    "a = arr.array('i', [-2, 4, 6, 8])\n",
    "\n",
    "print(\"First element:\", a[0])\n",
    "print(\"Second element:\", a[1])\n",
    "print(\"Last element:\", a[-3])"
   ]
  },
  {
   "cell_type": "code",
   "execution_count": null,
   "id": "28ff698c",
   "metadata": {},
   "outputs": [],
   "source": []
  }
 ],
 "metadata": {
  "kernelspec": {
   "display_name": "Python 3 (ipykernel)",
   "language": "python",
   "name": "python3"
  },
  "language_info": {
   "codemirror_mode": {
    "name": "ipython",
    "version": 3
   },
   "file_extension": ".py",
   "mimetype": "text/x-python",
   "name": "python",
   "nbconvert_exporter": "python",
   "pygments_lexer": "ipython3",
   "version": "3.9.12"
  }
 },
 "nbformat": 4,
 "nbformat_minor": 5
}
