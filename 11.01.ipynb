{
 "cells": [
  {
   "cell_type": "code",
   "execution_count": 1,
   "id": "b26b0bba",
   "metadata": {},
   "outputs": [
    {
     "name": "stdout",
     "output_type": "stream",
     "text": [
      "1 2 3 4 5 "
     ]
    }
   ],
   "source": [
    "# Python3 program to remove duplicates Function to remove duplicate elements\n",
    "\n",
    "# This function returns new size of modified array.\n",
    "def removeDuplicates(arr, n):\n",
    "\n",
    "# Return, if array is empty or contains a single element\n",
    "\tif n == 0 or n == 1:\n",
    "\t\treturn n\n",
    "\n",
    "\ttemp = list(range(n))\n",
    "\n",
    "\t# Start traversing elements\n",
    "\tj = 0;\n",
    "\tfor i in range(0, n-1):\n",
    "\n",
    "\t\t# If current element is not equal to next element then store that current element\n",
    "\t\tif arr[i] != arr[i+1]:\n",
    "\t\t\ttemp[j] = arr[i]\n",
    "\t\t\tj += 1\n",
    "\n",
    "\t# Store the last element as whether it is unique or repeated, it hasn't stored previously\n",
    "\ttemp[j] = arr[n-1]\n",
    "\tj += 1\n",
    "\t\n",
    "\t# Modify original array\n",
    "\tfor i in range(0, j):\n",
    "\t\tarr[i] = temp[i]\n",
    "\n",
    "\treturn j\n",
    "\n",
    "# Driver code\n",
    "arr = [1, 2, 2, 3, 4, 4, 4, 5, 5]\n",
    "n = len(arr)\n",
    "\n",
    "# removeDuplicates() returns\n",
    "# new size of array.\n",
    "n = removeDuplicates(arr, n)\n",
    "\n",
    "# Print updated array\n",
    "for i in range(n):\n",
    "\tprint (\"%d\"%(arr[i]), end = \" \")\n",
    "\n",
    "\t# This code is contributed by aadityaburukwale.\n"
   ]
  },
  {
   "cell_type": "code",
   "execution_count": 3,
   "id": "05f3669e",
   "metadata": {},
   "outputs": [
    {
     "name": "stdout",
     "output_type": "stream",
     "text": [
      "[1, 2, 3, 4, 5, 6]\n",
      "<class 'list'>\n",
      "(1, 2, 3, 4, 5, 6)\n",
      "<class 'tuple'>\n",
      "{1, 2, 3, 4, 5, 6}\n",
      "<class 'set'>\n",
      "array('i', [1, 2, 3, 4, 5, 6, 7, 8])\n",
      "<class 'array.array'>\n",
      "[1 2 3 4 5 6 7 8]\n",
      "<class 'numpy.ndarray'>\n"
     ]
    }
   ],
   "source": [
    "# A simple example\n",
    "a = [1,2,3,4,5,6] # list data type\n",
    "b = (1,2,3,4,5,6) # tuple data type\n",
    "c = {1,2,3,4,5,6} # set data type\n",
    "print (a)\n",
    "print (type(a))\n",
    "print (b)\n",
    "print (type(b))\n",
    "print (c)\n",
    "print (type(c))\n",
    "\n",
    "import array as ar\n",
    "d = ar.array (\"i\", [1,2,3,4,5,6,7,8])\n",
    "print (d)\n",
    "print (type(d))\n",
    "\n",
    "import numpy as np\n",
    "e = np.array ([1,2,3,4,5,6,7,8])\n",
    "print (e)\n",
    "print (type(e))"
   ]
  },
  {
   "cell_type": "code",
   "execution_count": 14,
   "id": "57178a55",
   "metadata": {},
   "outputs": [
    {
     "name": "stdout",
     "output_type": "stream",
     "text": [
      "{1, 2, 3, 4, 5}\n",
      "{'Virendra', 99, 88, 12, 45, 78}\n",
      "<class 'set'>\n",
      "<class 'set'>\n",
      "{(6, 2, 8), 'Singh', 98, (9, 6), 45}\n",
      "<class 'set'>\n"
     ]
    }
   ],
   "source": [
    "# define set \n",
    "s = {1,2,3,4,5}\n",
    "s1 = {99,12, 45, 78, \"Virendra\", 88}\n",
    "print (s)\n",
    "print (s1) # it will print random order of elements\n",
    "print (type(s))\n",
    "print (type(s1))\n",
    "s2 = {\"Singh\", 45, 98, (6,2,8), (9,6)} \n",
    "# list and set inside a set will not be possible, \n",
    "# only tuple can be possible.\n",
    "print (s2)\n",
    "print (type(s2))"
   ]
  },
  {
   "cell_type": "code",
   "execution_count": 24,
   "id": "64196829",
   "metadata": {},
   "outputs": [
    {
     "name": "stdout",
     "output_type": "stream",
     "text": [
      "{'l', 'o', 'e', 'H'}\n",
      "{1, 2, 4, 7}\n",
      "{'HellHoel'}\n",
      "{'fgg', 'HellHoel', 'sdjd'}\n"
     ]
    }
   ],
   "source": [
    "# using set () method\n",
    "myset = set (\"HellHoel\") \n",
    "myset1 = set ({1,2,4, 2, 4,7})\n",
    "myset2 = set ({\"HellHoel\"})\n",
    "myset3 = set ({\"HellHoel\", \"fgg\", \"sdjd\", \"fgg\"})\n",
    "print (myset) # it will print only distint elements\n",
    "print (myset1) # it will print only distint elements\n",
    "print (myset2)\n",
    "print (myset3)"
   ]
  },
  {
   "cell_type": "code",
   "execution_count": 27,
   "id": "176b3fe5",
   "metadata": {},
   "outputs": [
    {
     "name": "stdout",
     "output_type": "stream",
     "text": [
      "{1, 2, 99, 4, 7, 77}\n",
      "{1, 2, 99, 4, 7, 199, 77}\n"
     ]
    }
   ],
   "source": [
    "# operations of set data type\n",
    "myset1.add (99)\n",
    "myset1.add (77)\n",
    "print (myset1)\n",
    "\n",
    "myset1.add (199)\n",
    "myset1.add (77) #already exist into the set\n",
    "print (myset1)\n"
   ]
  },
  {
   "cell_type": "code",
   "execution_count": 29,
   "id": "e24ff234",
   "metadata": {},
   "outputs": [
    {
     "name": "stdout",
     "output_type": "stream",
     "text": [
      "{1, 2, 99, 4, 66, 67, 7, 199, 77, 22, 55}\n",
      "{1, 2, 99, 4, 66, 67, 7, 199, 77, 22, 55}\n"
     ]
    }
   ],
   "source": [
    "# we want to add more than one elements at one time\n",
    "#print (myset1)\n",
    "myset1.update([66,55,22,199,77,67])\n",
    "print (myset1)"
   ]
  },
  {
   "cell_type": "code",
   "execution_count": 30,
   "id": "7a90e342",
   "metadata": {},
   "outputs": [
    {
     "name": "stdout",
     "output_type": "stream",
     "text": [
      "{1, 2, 99, 4, 66, 67, 7, 199, 77, 22, 55}\n",
      "{1, 2, 99, 4, 66, 7, 199, 77, 22, 55}\n"
     ]
    }
   ],
   "source": [
    "print (myset1)\n",
    "myset1.discard (67) # element which is to be removed\n",
    "print (myset1)"
   ]
  },
  {
   "cell_type": "code",
   "execution_count": 31,
   "id": "b1cc3a93",
   "metadata": {},
   "outputs": [
    {
     "name": "stdout",
     "output_type": "stream",
     "text": [
      "{1, 2, 99, 4, 66, 7, 199, 77, 55}\n"
     ]
    }
   ],
   "source": [
    "myset1.remove(22)\n",
    "print (myset1)"
   ]
  },
  {
   "cell_type": "code",
   "execution_count": 32,
   "id": "9becea47",
   "metadata": {},
   "outputs": [
    {
     "name": "stdout",
     "output_type": "stream",
     "text": [
      "{1, 2, 99, 4, 66, 7, 199, 77, 55}\n"
     ]
    }
   ],
   "source": [
    "myset1.discard (22)\n",
    "print (myset1)"
   ]
  },
  {
   "cell_type": "code",
   "execution_count": 33,
   "id": "cceabd00",
   "metadata": {},
   "outputs": [
    {
     "ename": "KeyError",
     "evalue": "22",
     "output_type": "error",
     "traceback": [
      "\u001b[1;31m---------------------------------------------------------------------------\u001b[0m",
      "\u001b[1;31mKeyError\u001b[0m                                  Traceback (most recent call last)",
      "Input \u001b[1;32mIn [33]\u001b[0m, in \u001b[0;36m<cell line: 1>\u001b[1;34m()\u001b[0m\n\u001b[1;32m----> 1\u001b[0m \u001b[43mmyset1\u001b[49m\u001b[38;5;241;43m.\u001b[39;49m\u001b[43mremove\u001b[49m\u001b[43m(\u001b[49m\u001b[38;5;241;43m22\u001b[39;49m\u001b[43m)\u001b[49m\n",
      "\u001b[1;31mKeyError\u001b[0m: 22"
     ]
    }
   ],
   "source": [
    "myset1.remove(22)"
   ]
  },
  {
   "cell_type": "code",
   "execution_count": 35,
   "id": "c4416614",
   "metadata": {},
   "outputs": [
    {
     "name": "stdout",
     "output_type": "stream",
     "text": [
      "{5, 6, 7, 8, 9}\n",
      "{5, 6, 7, 9}\n"
     ]
    }
   ],
   "source": [
    "temp = set ({5,6,7,8,9})\n",
    "print (temp)\n",
    "temp.discard (8)\n",
    "print (temp)"
   ]
  },
  {
   "cell_type": "code",
   "execution_count": 36,
   "id": "3cd78024",
   "metadata": {},
   "outputs": [
    {
     "name": "stdout",
     "output_type": "stream",
     "text": [
      "{5, 6, 7, 9}\n"
     ]
    }
   ],
   "source": [
    "temp.discard (8)\n",
    "print (temp)"
   ]
  },
  {
   "cell_type": "code",
   "execution_count": 37,
   "id": "02be9e54",
   "metadata": {},
   "outputs": [
    {
     "name": "stdout",
     "output_type": "stream",
     "text": [
      "{5, 6, 7}\n"
     ]
    }
   ],
   "source": [
    "temp.remove (9)\n",
    "print (temp)"
   ]
  },
  {
   "cell_type": "code",
   "execution_count": 38,
   "id": "a9f78c77",
   "metadata": {},
   "outputs": [
    {
     "ename": "KeyError",
     "evalue": "9",
     "output_type": "error",
     "traceback": [
      "\u001b[1;31m---------------------------------------------------------------------------\u001b[0m",
      "\u001b[1;31mKeyError\u001b[0m                                  Traceback (most recent call last)",
      "Input \u001b[1;32mIn [38]\u001b[0m, in \u001b[0;36m<cell line: 1>\u001b[1;34m()\u001b[0m\n\u001b[1;32m----> 1\u001b[0m \u001b[43mtemp\u001b[49m\u001b[38;5;241;43m.\u001b[39;49m\u001b[43mremove\u001b[49m\u001b[43m \u001b[49m\u001b[43m(\u001b[49m\u001b[38;5;241;43m9\u001b[39;49m\u001b[43m)\u001b[49m\n\u001b[0;32m      2\u001b[0m \u001b[38;5;28mprint\u001b[39m (temp)\n",
      "\u001b[1;31mKeyError\u001b[0m: 9"
     ]
    }
   ],
   "source": [
    "temp.remove (9)\n",
    "print (temp)"
   ]
  },
  {
   "cell_type": "code",
   "execution_count": 39,
   "id": "00d577cd",
   "metadata": {},
   "outputs": [
    {
     "name": "stdout",
     "output_type": "stream",
     "text": [
      "{1, 2, 99, 4, 66, 7, 199, 77, 55}\n",
      "{2, 99, 4, 66, 7, 199, 77, 55}\n"
     ]
    }
   ],
   "source": [
    "print (myset1)\n",
    "myset1.pop ()\n",
    "print (myset1)"
   ]
  },
  {
   "cell_type": "code",
   "execution_count": 40,
   "id": "7befb90c",
   "metadata": {},
   "outputs": [
    {
     "name": "stdout",
     "output_type": "stream",
     "text": [
      "{99, 4, 66, 7, 199, 77, 55}\n"
     ]
    }
   ],
   "source": [
    "myset1.pop() # to populate one element at one time from first position\n",
    "print (myset1)"
   ]
  },
  {
   "cell_type": "code",
   "execution_count": 42,
   "id": "bfecdba0",
   "metadata": {},
   "outputs": [
    {
     "name": "stdout",
     "output_type": "stream",
     "text": [
      "set()\n"
     ]
    }
   ],
   "source": [
    "myset1.clear() # clear all the elements\n",
    "print (myset1)"
   ]
  },
  {
   "cell_type": "code",
   "execution_count": 2,
   "id": "8eb54fcc",
   "metadata": {},
   "outputs": [
    {
     "name": "stdout",
     "output_type": "stream",
     "text": [
      "[3, 5, 6, 8, 1, 9]\n",
      "<class 'list'>\n",
      "(3, 5, 6, 8, 1, 9)\n",
      "<class 'tuple'>\n",
      "Virendra Singh\n",
      "<class 'str'>\n"
     ]
    }
   ],
   "source": [
    "a = [3,5,6,8,1,9]\n",
    "b = (3,5,6,8,1,9)\n",
    "c = \"Virendra Singh\"\n",
    "\n",
    "print (a)\n",
    "print (type (a))\n",
    "\n",
    "print (b)\n",
    "print (type(b))\n",
    "\n",
    "print (c)\n",
    "print (type(c))"
   ]
  },
  {
   "cell_type": "code",
   "execution_count": 3,
   "id": "ed493c81",
   "metadata": {},
   "outputs": [
    {
     "name": "stdout",
     "output_type": "stream",
     "text": [
      "array('i', [3, 5, 6, 8, 1, 9])\n",
      "<class 'array.array'>\n"
     ]
    }
   ],
   "source": [
    "import array as ar\n",
    "d = ar.array (\"i\", [3, 5, 6, 8, 1, 9])\n",
    "print (d)\n",
    "print (type (d))"
   ]
  },
  {
   "cell_type": "code",
   "execution_count": 4,
   "id": "df769357",
   "metadata": {},
   "outputs": [
    {
     "name": "stdout",
     "output_type": "stream",
     "text": [
      "[3 5 6 8 1 9]\n",
      "<class 'numpy.ndarray'>\n"
     ]
    }
   ],
   "source": [
    "import numpy as ar\n",
    "e = ar.array ([3, 5, 6, 8, 1, 9])\n",
    "print (e)\n",
    "print (type (e))"
   ]
  },
  {
   "cell_type": "code",
   "execution_count": 5,
   "id": "a49faa8f",
   "metadata": {},
   "outputs": [
    {
     "name": "stdout",
     "output_type": "stream",
     "text": [
      "<class 'list'>\n",
      "<class 'tuple'>\n",
      "<class 'str'>\n",
      "<class 'array.array'>\n",
      "<class 'numpy.ndarray'>\n"
     ]
    }
   ],
   "source": [
    "print (type(a))\n",
    "print (type(b))\n",
    "print (type(c))\n",
    "print (type(d))\n",
    "print (type(e))\n"
   ]
  },
  {
   "cell_type": "code",
   "execution_count": 7,
   "id": "bd4808f6",
   "metadata": {},
   "outputs": [
    {
     "name": "stdout",
     "output_type": "stream",
     "text": [
      "{()}\n",
      "<class 'set'>\n"
     ]
    }
   ],
   "source": [
    "f = {()} #empty set\n",
    "print (f) \n",
    "print (type(f))"
   ]
  },
  {
   "cell_type": "code",
   "execution_count": 9,
   "id": "cdce2224",
   "metadata": {},
   "outputs": [
    {
     "name": "stdout",
     "output_type": "stream",
     "text": [
      "{99, 67, 4, 45, 12, 13, 78}\n"
     ]
    }
   ],
   "source": [
    "myset = {12, 45, 78, 67, 13, 99, 4}\n",
    "print (myset)"
   ]
  },
  {
   "cell_type": "code",
   "execution_count": 10,
   "id": "0d4f8515",
   "metadata": {},
   "outputs": [
    {
     "name": "stdout",
     "output_type": "stream",
     "text": [
      "{99, 67, 4, 12, 13, 45, 78, 334, 44}\n"
     ]
    }
   ],
   "source": [
    "myset = {12, 45, 78, 67, 13, 99, 4, 67, 334, 44, 78, 99}\n",
    "print (myset)"
   ]
  },
  {
   "cell_type": "code",
   "execution_count": 11,
   "id": "71ce9864",
   "metadata": {},
   "outputs": [
    {
     "name": "stdout",
     "output_type": "stream",
     "text": [
      "{'virendra', 3.5, 5.2, 9.6, 74, 44, 78, 63}\n"
     ]
    }
   ],
   "source": [
    "myset1 = {63, \"virendra\", 9.6, 78, 3.5, 9.6, 5.2, 44, 74, 78}\n",
    "print (myset1)"
   ]
  },
  {
   "cell_type": "code",
   "execution_count": 12,
   "id": "f68f1867",
   "metadata": {},
   "outputs": [
    {
     "ename": "TypeError",
     "evalue": "unhashable type: 'set'",
     "output_type": "error",
     "traceback": [
      "\u001b[1;31m---------------------------------------------------------------------------\u001b[0m",
      "\u001b[1;31mTypeError\u001b[0m                                 Traceback (most recent call last)",
      "Input \u001b[1;32mIn [12]\u001b[0m, in \u001b[0;36m<cell line: 1>\u001b[1;34m()\u001b[0m\n\u001b[1;32m----> 1\u001b[0m myset2 \u001b[38;5;241m=\u001b[39m {\u001b[38;5;241m56\u001b[39m, \u001b[38;5;241m67\u001b[39m, \u001b[38;5;241m88\u001b[39m, {\u001b[38;5;241m67\u001b[39m, \u001b[38;5;241m99\u001b[39m, \u001b[38;5;241m33\u001b[39m}, \u001b[38;5;124m\"\u001b[39m\u001b[38;5;124mghyt\u001b[39m\u001b[38;5;124m\"\u001b[39m}\n",
      "\u001b[1;31mTypeError\u001b[0m: unhashable type: 'set'"
     ]
    }
   ],
   "source": [
    "myset2 = {56, 67, 88, {67, 99, 33}, \"ghyt\"} #set inside a set- error"
   ]
  },
  {
   "cell_type": "code",
   "execution_count": 13,
   "id": "f925b55c",
   "metadata": {},
   "outputs": [
    {
     "ename": "TypeError",
     "evalue": "unhashable type: 'list'",
     "output_type": "error",
     "traceback": [
      "\u001b[1;31m---------------------------------------------------------------------------\u001b[0m",
      "\u001b[1;31mTypeError\u001b[0m                                 Traceback (most recent call last)",
      "Input \u001b[1;32mIn [13]\u001b[0m, in \u001b[0;36m<cell line: 1>\u001b[1;34m()\u001b[0m\n\u001b[1;32m----> 1\u001b[0m myset2 \u001b[38;5;241m=\u001b[39m {\u001b[38;5;241m56\u001b[39m, \u001b[38;5;241m67\u001b[39m, \u001b[38;5;241m88\u001b[39m, [\u001b[38;5;241m67\u001b[39m, \u001b[38;5;241m99\u001b[39m, \u001b[38;5;241m33\u001b[39m], \u001b[38;5;124m\"\u001b[39m\u001b[38;5;124mghyt\u001b[39m\u001b[38;5;124m\"\u001b[39m}\n",
      "\u001b[1;31mTypeError\u001b[0m: unhashable type: 'list'"
     ]
    }
   ],
   "source": [
    "myset2 = {56, 67, 88, [67, 99, 33], \"ghyt\"} #list inside a set - error"
   ]
  },
  {
   "cell_type": "code",
   "execution_count": 15,
   "id": "42247b6d",
   "metadata": {},
   "outputs": [
    {
     "name": "stdout",
     "output_type": "stream",
     "text": [
      "{(67, 99, 33), 67, 56, 'ghyt', 88}\n"
     ]
    }
   ],
   "source": [
    "myset2 = {56, 67, 88, (67, 99, 33), \"ghyt\"}\n",
    "print (myset2)"
   ]
  },
  {
   "cell_type": "code",
   "execution_count": 16,
   "id": "01ef946e",
   "metadata": {},
   "outputs": [
    {
     "name": "stdout",
     "output_type": "stream",
     "text": [
      "{102, 56, 89, 58, 107}\n"
     ]
    }
   ],
   "source": [
    "myset3 = {56, 58, 89, 102, 107}\n",
    "print (myset3)\n"
   ]
  },
  {
   "cell_type": "code",
   "execution_count": 17,
   "id": "cb6b51b1",
   "metadata": {},
   "outputs": [
    {
     "name": "stdout",
     "output_type": "stream",
     "text": [
      "{56, 57, 58, 59, 60}\n"
     ]
    }
   ],
   "source": [
    "myset3 = {56, 57, 58, 59, 60}\n",
    "print (myset3)"
   ]
  },
  {
   "cell_type": "code",
   "execution_count": 18,
   "id": "e38bde9f",
   "metadata": {},
   "outputs": [
    {
     "name": "stdout",
     "output_type": "stream",
     "text": [
      "{56, 57, 58, 59, 60}\n"
     ]
    }
   ],
   "source": [
    "myset4 = {60, 59, 58, 57, 56}\n",
    "print (myset4)"
   ]
  },
  {
   "cell_type": "code",
   "execution_count": 23,
   "id": "7e53ab9c",
   "metadata": {},
   "outputs": [
    {
     "name": "stdout",
     "output_type": "stream",
     "text": [
      "[1, 2, 3]\n",
      "(2, 4, 5)\n"
     ]
    }
   ],
   "source": [
    "l = list ([1,2,3])\n",
    "print (l)\n",
    "t = tuple ((2,4,5))\n",
    "print (t)"
   ]
  },
  {
   "cell_type": "code",
   "execution_count": 27,
   "id": "79b0f672",
   "metadata": {},
   "outputs": [
    {
     "name": "stdout",
     "output_type": "stream",
     "text": [
      "{2, 67, 34, 44, 13, 12, 18, 88, 25}\n"
     ]
    }
   ],
   "source": [
    "news = set ({13,44,25,67,18,12,88,2,34})\n",
    "print (news)"
   ]
  },
  {
   "cell_type": "code",
   "execution_count": 30,
   "id": "1b8dd6d8",
   "metadata": {},
   "outputs": [
    {
     "name": "stdout",
     "output_type": "stream",
     "text": [
      "{2, 67, 34, ' singh', (56, 67, 77), 'tyop', 44, 13, 12, 18, 88, 25}\n"
     ]
    }
   ],
   "source": [
    "news1 = set ({\"tyop\", 13,44, \" singh\", 25,67,18,(56, 67,77), 12,88,2, \" singh\" ,34, (56, 67,77)})\n",
    "print (news1)"
   ]
  },
  {
   "cell_type": "code",
   "execution_count": 31,
   "id": "c9f35e72",
   "metadata": {},
   "outputs": [
    {
     "name": "stdout",
     "output_type": "stream",
     "text": [
      "{2, 67, 34, ' singh', (56, 67, 77), 'tyop', 44, 13, 12, 18, 88, 25}\n"
     ]
    }
   ],
   "source": [
    "news2 = set ({\"tyop\", 13,44, \" singh\", 25,67,18,(56, 67,77), 12,88,2, \" singh\" ,34, (56, 67,77)})\n",
    "print (news2)"
   ]
  },
  {
   "cell_type": "code",
   "execution_count": 32,
   "id": "37adc395",
   "metadata": {},
   "outputs": [
    {
     "name": "stdout",
     "output_type": "stream",
     "text": [
      "{2, 67, 34, 44, 13, 12, 18, 88, 25}\n"
     ]
    }
   ],
   "source": [
    "news = set ({13,44,25,67,18,12,88,2,34})\n",
    "print (news)"
   ]
  },
  {
   "cell_type": "code",
   "execution_count": 33,
   "id": "958a1793",
   "metadata": {},
   "outputs": [
    {
     "name": "stdout",
     "output_type": "stream",
     "text": [
      "{2, 67, 34, 999, 44, 13, 12, 18, 88, 25}\n"
     ]
    }
   ],
   "source": [
    "news.add (999)\n",
    "print (news)"
   ]
  },
  {
   "cell_type": "code",
   "execution_count": 35,
   "id": "e5438670",
   "metadata": {},
   "outputs": [
    {
     "name": "stdout",
     "output_type": "stream",
     "text": [
      "{2, 67, 34, 996, 999, 44, 13, 12, 909, 18, 88, 25}\n"
     ]
    }
   ],
   "source": [
    "news.add (996)\n",
    "news.add (999) #duplicate - already exist into the set\n",
    "news.add (909)\n",
    "print (news)"
   ]
  },
  {
   "cell_type": "code",
   "execution_count": 36,
   "id": "c9d1e763",
   "metadata": {},
   "outputs": [
    {
     "name": "stdout",
     "output_type": "stream",
     "text": [
      "{67, 34, 996, 999, 44, 13, 12, 909, 18, 88, 25}\n"
     ]
    }
   ],
   "source": [
    "news.pop ()\n",
    "print (news)"
   ]
  },
  {
   "cell_type": "code",
   "execution_count": 37,
   "id": "e51f5b7f",
   "metadata": {},
   "outputs": [
    {
     "name": "stdout",
     "output_type": "stream",
     "text": [
      "{996, 999, 44, 13, 12, 909, 18, 88, 25}\n"
     ]
    }
   ],
   "source": [
    "news.pop ()\n",
    "news.pop ()\n",
    "print (news)"
   ]
  },
  {
   "cell_type": "code",
   "execution_count": 38,
   "id": "7927ef18",
   "metadata": {},
   "outputs": [
    {
     "name": "stdout",
     "output_type": "stream",
     "text": [
      "{996, 999, 44, 13, 12, 18, 88, 25}\n"
     ]
    }
   ],
   "source": [
    "news.remove (909)\n",
    "print (news)"
   ]
  },
  {
   "cell_type": "code",
   "execution_count": 39,
   "id": "f21666ee",
   "metadata": {},
   "outputs": [
    {
     "ename": "KeyError",
     "evalue": "909",
     "output_type": "error",
     "traceback": [
      "\u001b[1;31m---------------------------------------------------------------------------\u001b[0m",
      "\u001b[1;31mKeyError\u001b[0m                                  Traceback (most recent call last)",
      "Input \u001b[1;32mIn [39]\u001b[0m, in \u001b[0;36m<cell line: 1>\u001b[1;34m()\u001b[0m\n\u001b[1;32m----> 1\u001b[0m \u001b[43mnews\u001b[49m\u001b[38;5;241;43m.\u001b[39;49m\u001b[43mremove\u001b[49m\u001b[43m \u001b[49m\u001b[43m(\u001b[49m\u001b[38;5;241;43m909\u001b[39;49m\u001b[43m)\u001b[49m\n",
      "\u001b[1;31mKeyError\u001b[0m: 909"
     ]
    }
   ],
   "source": [
    "news.remove (909)"
   ]
  },
  {
   "cell_type": "code",
   "execution_count": 40,
   "id": "1411ecfe",
   "metadata": {},
   "outputs": [
    {
     "name": "stdout",
     "output_type": "stream",
     "text": [
      "{996, 999, 44, 13, 12, 18, 88, 25}\n",
      "{996, 999, 44, 13, 18, 88, 25}\n"
     ]
    }
   ],
   "source": [
    "print (news)\n",
    "news.discard (12)\n",
    "print (news)"
   ]
  },
  {
   "cell_type": "code",
   "execution_count": 42,
   "id": "f6804d20",
   "metadata": {},
   "outputs": [
    {
     "name": "stdout",
     "output_type": "stream",
     "text": [
      "{996, 999, 44, 13, 18, 88, 25}\n"
     ]
    }
   ],
   "source": [
    "news.discard (12)\n",
    "print (news)"
   ]
  },
  {
   "cell_type": "code",
   "execution_count": 44,
   "id": "b7422822",
   "metadata": {},
   "outputs": [
    {
     "name": "stdout",
     "output_type": "stream",
     "text": [
      "{996, 999, 44, 13, 18, 1234, 88, 25}\n",
      "{996, 999, 777, 44, 13, 18, 1234, 888, 88, 25, 666}\n"
     ]
    }
   ],
   "source": [
    "# add multiple elements into the set\n",
    "news.add (1234)\n",
    "print (news)\n",
    "news.update ([666, 777, 888, 777, 999, 666])\n",
    "print (news)"
   ]
  },
  {
   "cell_type": "code",
   "execution_count": 47,
   "id": "7490d87d",
   "metadata": {},
   "outputs": [
    {
     "ename": "TypeError",
     "evalue": "unsupported operand type(s) for +: 'set' and 'set'",
     "output_type": "error",
     "traceback": [
      "\u001b[1;31m---------------------------------------------------------------------------\u001b[0m",
      "\u001b[1;31mTypeError\u001b[0m                                 Traceback (most recent call last)",
      "Input \u001b[1;32mIn [47]\u001b[0m, in \u001b[0;36m<cell line: 3>\u001b[1;34m()\u001b[0m\n\u001b[0;32m      1\u001b[0m t1 \u001b[38;5;241m=\u001b[39m {\u001b[38;5;241m6\u001b[39m,\u001b[38;5;241m8\u001b[39m,\u001b[38;5;241m9\u001b[39m}\n\u001b[0;32m      2\u001b[0m t2 \u001b[38;5;241m=\u001b[39m {\u001b[38;5;241m7\u001b[39m,\u001b[38;5;241m3\u001b[39m,\u001b[38;5;241m5\u001b[39m}\n\u001b[1;32m----> 3\u001b[0m \u001b[38;5;28mprint\u001b[39m (\u001b[43mt1\u001b[49m\u001b[38;5;241;43m+\u001b[39;49m\u001b[43mt2\u001b[49m)\n",
      "\u001b[1;31mTypeError\u001b[0m: unsupported operand type(s) for +: 'set' and 'set'"
     ]
    }
   ],
   "source": [
    "t1 = {6,8,9}\n",
    "t2 = {7,3,5}\n",
    "print (t1+t2)"
   ]
  },
  {
   "cell_type": "code",
   "execution_count": 48,
   "id": "35892377",
   "metadata": {},
   "outputs": [
    {
     "name": "stdout",
     "output_type": "stream",
     "text": [
      "{996, 999, 777, 44, 13, 18, 1234, 888, 88, 25, 666}\n",
      "set()\n"
     ]
    }
   ],
   "source": [
    "# remove or clear all the elements from a set\n",
    "print (news)\n",
    "news.clear ()\n",
    "print (news)"
   ]
  },
  {
   "cell_type": "code",
   "execution_count": null,
   "id": "2c6bbcda",
   "metadata": {},
   "outputs": [],
   "source": []
  }
 ],
 "metadata": {
  "kernelspec": {
   "display_name": "Python 3",
   "language": "python",
   "name": "python3"
  },
  "language_info": {
   "codemirror_mode": {
    "name": "ipython",
    "version": 3
   },
   "file_extension": ".py",
   "mimetype": "text/x-python",
   "name": "python",
   "nbconvert_exporter": "python",
   "pygments_lexer": "ipython3",
   "version": "3.11.0 (main, Oct 24 2022, 18:26:48) [MSC v.1933 64 bit (AMD64)]"
  },
  "vscode": {
   "interpreter": {
    "hash": "b6486d4b6c57b19583e9d0c47510e2d8c0c0f47bde759015cf22c5139ee6d241"
   }
  }
 },
 "nbformat": 4,
 "nbformat_minor": 5
}
