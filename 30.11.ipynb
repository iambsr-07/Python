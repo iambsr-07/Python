{
 "cells": [
  {
   "cell_type": "code",
   "execution_count": null,
   "metadata": {},
   "outputs": [],
   "source": [
    "# date  ==>  30/11/2022\n",
    "\n",
    "\n",
    "# code using continue statement====>\n",
    "\n",
    "for value in\"string\":\n",
    "    if value==\"i\":\n",
    "        continue\n",
    "    print(value)\n",
    "print(\"the end\")\n",
    "\n",
    "# code using continue statement ====>\n",
    "\n",
    "for  letter  in  \"bharat singh raghuvanshi\":\n",
    "    if letter  ==\"a\" or letter==\"r\":\n",
    "        continue\n",
    "    print(letter)\n",
    "\n",
    "# using break statement ====>\n",
    "\n",
    "for value in\"string\":\n",
    "    if value==\"i\":\n",
    "        break\n",
    "    print(value)\n",
    "print(\"the end\")\n",
    "\n",
    "# using pass statement ====>\n",
    "\n",
    "n=10\n",
    "if n>10:\n",
    "    pass\n",
    "print(\"hello\")\n",
    "\n",
    "# using  python pass  statement====>\n",
    "\n",
    "for letter  in \"bharat\":\n",
    "    pass\n",
    "print(letter)\n",
    "\n",
    "# using pyton pass statement ====>\n",
    "\n",
    "sequence={\"python\",\"pass\",\"statement\",\"placeholder\"}\n",
    "for value in sequence:\n",
    "    if value==\"pass\":\n",
    "        pass\n",
    "    else:\n",
    "        print(value)\n",
    "\n"
   ]
  }
 ],
 "metadata": {
  "kernelspec": {
   "display_name": "Python 3",
   "language": "python",
   "name": "python3"
  },
  "language_info": {
   "name": "python",
   "version": "3.11.0 (main, Oct 24 2022, 18:26:48) [MSC v.1933 64 bit (AMD64)]"
  },
  "orig_nbformat": 4,
  "vscode": {
   "interpreter": {
    "hash": "b6486d4b6c57b19583e9d0c47510e2d8c0c0f47bde759015cf22c5139ee6d241"
   }
  }
 },
 "nbformat": 4,
 "nbformat_minor": 2
}
