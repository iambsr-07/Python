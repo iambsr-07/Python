{
 "cells": [
  {
   "cell_type": "code",
   "execution_count": null,
   "metadata": {},
   "outputs": [],
   "source": [
    "#  Date ===> 18/11/2022 \n",
    "l=[12,12,11,4,4,5,6,6,7,7,8,9]\n",
    "l2=list(l)\n",
    "l3=l\n",
    "l[0]=1222\n",
    "print(l)\n",
    "print(l2)\n",
    "print(l3)\n",
    "a=12\n",
    "[a in l]\n",
    "print([a**4 for a  in [12,22,555]])\n",
    "print([x%2 for x in l])\n",
    "print([x==12 for x in l])\n",
    "print([b for b in range(12)])"
   ]
  }
 ],
 "metadata": {
  "language_info": {
   "name": "python"
  },
  "orig_nbformat": 4
 },
 "nbformat": 4,
 "nbformat_minor": 2
}
