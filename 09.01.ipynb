{
 "cells": [
  {
   "cell_type": "code",
   "execution_count": 1,
   "id": "406607d6",
   "metadata": {},
   "outputs": [
    {
     "name": "stdout",
     "output_type": "stream",
     "text": [
      "<class 'int'>\n",
      "<class 'float'>\n"
     ]
    }
   ],
   "source": [
    "a = 5\n",
    "print (type (a))\n",
    "\n",
    "b=9.6\n",
    "print (type (b))"
   ]
  },
  {
   "cell_type": "code",
   "execution_count": 2,
   "id": "d9015c0a",
   "metadata": {},
   "outputs": [
    {
     "name": "stdout",
     "output_type": "stream",
     "text": [
      "[[1, 2, 3], [4, 5, 6], [7, 8, 9]]\n",
      "<class 'list'>\n",
      "8\n"
     ]
    }
   ],
   "source": [
    "# 1-D = array method from array module = no problem\n",
    "# 2-D = array method from array module = error\n",
    "# 2-D = list inside another list = possible to use \n",
    "# 2-D = array method from numpy module = possible to use = ndarray (n-dimension array)\n",
    "\n",
    "a = ([\n",
    "[1,2,3],\n",
    "[4,5,6],\n",
    "[7,8,9],\n",
    "])\n",
    "print (a)\n",
    "print (type(a))\n",
    "print (a[2][1])"
   ]
  },
  {
   "cell_type": "code",
   "execution_count": 4,
   "id": "a86b63fb",
   "metadata": {},
   "outputs": [
    {
     "name": "stdout",
     "output_type": "stream",
     "text": [
      "3\n",
      "1 2 3 \n",
      "\n",
      "4 5 6 \n",
      "\n",
      "7 8 9 \n",
      "\n"
     ]
    }
   ],
   "source": [
    "print (len(a)) # list inside a list will be an element\n",
    "for i in range(len(a)):\n",
    "    for j in range(len(a)): # 0 to 2\n",
    "        print (a[i][j], end=\" \")\n",
    "    print (\"\\n\")"
   ]
  },
  {
   "cell_type": "code",
   "execution_count": 5,
   "id": "650575dc",
   "metadata": {},
   "outputs": [
    {
     "name": "stdout",
     "output_type": "stream",
     "text": [
      "<class 'list'>\n"
     ]
    }
   ],
   "source": [
    "print (type (a))"
   ]
  },
  {
   "cell_type": "code",
   "execution_count": 14,
   "id": "d59ad70a",
   "metadata": {},
   "outputs": [
    {
     "ename": "TypeError",
     "evalue": "an integer is required (got type list)",
     "output_type": "error",
     "traceback": [
      "\u001b[1;31m---------------------------------------------------------------------------\u001b[0m",
      "\u001b[1;31mTypeError\u001b[0m                                 Traceback (most recent call last)",
      "Input \u001b[1;32mIn [14]\u001b[0m, in \u001b[0;36m<cell line: 3>\u001b[1;34m()\u001b[0m\n\u001b[0;32m      1\u001b[0m \u001b[38;5;28;01mimport\u001b[39;00m \u001b[38;5;21;01marray\u001b[39;00m \u001b[38;5;28;01mas\u001b[39;00m \u001b[38;5;21;01mtr\u001b[39;00m\n\u001b[0;32m      2\u001b[0m \u001b[38;5;66;03m#ar = tr.array(\"i\",[[1,2,4], [5,6,7]]) # error use list\u001b[39;00m\n\u001b[1;32m----> 3\u001b[0m ar \u001b[38;5;241m=\u001b[39m \u001b[43mtr\u001b[49m\u001b[38;5;241;43m.\u001b[39;49m\u001b[43marray\u001b[49m\u001b[43m(\u001b[49m\u001b[38;5;124;43m\"\u001b[39;49m\u001b[38;5;124;43mi\u001b[39;49m\u001b[38;5;124;43m\"\u001b[39;49m\u001b[43m,\u001b[49m\u001b[43m[\u001b[49m\u001b[43m[\u001b[49m\u001b[38;5;241;43m6\u001b[39;49m\u001b[43m,\u001b[49m\u001b[38;5;241;43m7\u001b[39;49m\u001b[43m,\u001b[49m\u001b[38;5;241;43m8\u001b[39;49m\u001b[43m]\u001b[49m\u001b[43m,\u001b[49m\u001b[43m[\u001b[49m\u001b[38;5;241;43m8\u001b[39;49m\u001b[43m,\u001b[49m\u001b[38;5;241;43m9\u001b[39;49m\u001b[43m,\u001b[49m\u001b[38;5;241;43m10\u001b[39;49m\u001b[43m]\u001b[49m\u001b[43m]\u001b[49m\u001b[43m)\u001b[49m\n\u001b[0;32m      4\u001b[0m \u001b[38;5;28mprint\u001b[39m (ar)\n\u001b[0;32m      5\u001b[0m \u001b[38;5;28mprint\u001b[39m (\u001b[38;5;28mtype\u001b[39m(ar))\n",
      "\u001b[1;31mTypeError\u001b[0m: an integer is required (got type list)"
     ]
    }
   ],
   "source": [
    "import array as tr\n",
    "#ar = tr.array(\"i\",[[1,2,4], [5,6,7]]) # error use list\n",
    "ar = tr.array(\"i\",[[6,7,8],[8,9,10]])\n",
    "print (ar)\n",
    "print (type(ar))"
   ]
  },
  {
   "cell_type": "code",
   "execution_count": 16,
   "id": "dca2af2c",
   "metadata": {},
   "outputs": [
    {
     "name": "stdout",
     "output_type": "stream",
     "text": [
      "[[ 6  7  8]\n",
      " [ 8  9 10]]\n",
      "<class 'numpy.ndarray'>\n"
     ]
    }
   ],
   "source": [
    "import numpy as tr\n",
    "#ar = tr.array(\"i\",[[1,2,4], [5,6,7]]) # error use list\n",
    "ar = tr.array([[6,7,8],[8,9,10]]) #do not need to use data type mode \"i\", \"b\"\n",
    "print (ar)\n",
    "print (type(ar))"
   ]
  },
  {
   "cell_type": "code",
   "execution_count": 31,
   "id": "c3115108",
   "metadata": {},
   "outputs": [
    {
     "name": "stdout",
     "output_type": "stream",
     "text": [
      "[7 2 5 6 9 7 6 2 4 6 3]\n",
      "11\n",
      "[3 2 2 4 5 6 6 6 7 9 7]\n"
     ]
    }
   ],
   "source": [
    "import numpy as vc\n",
    "a = vc.array ([7,2,5,6,9,7,6,2,4,6,3])\n",
    "print (a)\n",
    "print (len(a))\n",
    "\n",
    "b = vc.partition (a, 5)\n",
    "print (b)"
   ]
  },
  {
   "cell_type": "code",
   "execution_count": 1,
   "id": "45d9106a",
   "metadata": {},
   "outputs": [
    {
     "name": "stdout",
     "output_type": "stream",
     "text": [
      "<class 'int'>\n",
      "<class 'float'>\n",
      "<class 'str'>\n"
     ]
    }
   ],
   "source": [
    "# type - is used to represent data type of a variable\n",
    "a = 90\n",
    "b = 78.34\n",
    "c = \"Virendra\"\n",
    "\n",
    "print (type (a))\n",
    "print (type (b))\n",
    "print (type (c))"
   ]
  },
  {
   "cell_type": "code",
   "execution_count": 2,
   "id": "e5fb0a18",
   "metadata": {},
   "outputs": [
    {
     "name": "stdout",
     "output_type": "stream",
     "text": [
      "[34, 56, 78, 12, 89, 24, 75, 41]\n",
      "<class 'list'>\n"
     ]
    }
   ],
   "source": [
    "ar1 = [34, 56, 78, 12, 89, 24, 75, 41]\n",
    "print (ar1)\n",
    "print (type (ar1))"
   ]
  },
  {
   "cell_type": "code",
   "execution_count": 3,
   "id": "c80eb7eb",
   "metadata": {},
   "outputs": [
    {
     "name": "stdout",
     "output_type": "stream",
     "text": [
      "[34, 56, 78, 12, 89, 24, 75, 41]\n",
      "<class 'list'>\n",
      "array('i', [34, 56, 78, 12, 89, 24, 75, 41])\n",
      "<class 'array.array'>\n"
     ]
    }
   ],
   "source": [
    "import array as tr\n",
    "ar1 = [34, 56, 78, 12, 89, 24, 75, 41] # ar1 - list variable\n",
    "ar2 = tr.array (\"i\", ar1) # ar2 - array variable\n",
    "print (ar1)\n",
    "print (type (ar1))\n",
    "print (ar2)\n",
    "print (type (ar2))"
   ]
  },
  {
   "cell_type": "code",
   "execution_count": 4,
   "id": "7cdad241",
   "metadata": {},
   "outputs": [
    {
     "name": "stdout",
     "output_type": "stream",
     "text": [
      "[[1, 2, 3], [4, 5, 6], [7, 8, 9]]\n",
      "<class 'list'>\n"
     ]
    }
   ],
   "source": [
    "td = [[1,2,3], [4,5,6], [7,8,9]]\n",
    "print (td)\n",
    "print (type (td))"
   ]
  },
  {
   "cell_type": "code",
   "execution_count": 6,
   "id": "7267c5a8",
   "metadata": {},
   "outputs": [
    {
     "ename": "TypeError",
     "evalue": "an integer is required (got type list)",
     "output_type": "error",
     "traceback": [
      "\u001b[1;31m---------------------------------------------------------------------------\u001b[0m",
      "\u001b[1;31mTypeError\u001b[0m                                 Traceback (most recent call last)",
      "Input \u001b[1;32mIn [6]\u001b[0m, in \u001b[0;36m<cell line: 3>\u001b[1;34m()\u001b[0m\n\u001b[0;32m      1\u001b[0m \u001b[38;5;28;01mimport\u001b[39;00m \u001b[38;5;21;01marray\u001b[39;00m \u001b[38;5;28;01mas\u001b[39;00m \u001b[38;5;21;01mtdr\u001b[39;00m\n\u001b[0;32m      2\u001b[0m \u001b[38;5;66;03m#ar3 = tdr.array (\"i\", td) # error\u001b[39;00m\n\u001b[1;32m----> 3\u001b[0m ar3 \u001b[38;5;241m=\u001b[39m \u001b[43mtdr\u001b[49m\u001b[38;5;241;43m.\u001b[39;49m\u001b[43marray\u001b[49m\u001b[43m \u001b[49m\u001b[43m(\u001b[49m\u001b[38;5;124;43m\"\u001b[39;49m\u001b[38;5;124;43mi\u001b[39;49m\u001b[38;5;124;43m\"\u001b[39;49m\u001b[43m,\u001b[49m\u001b[43m \u001b[49m\u001b[43m[\u001b[49m\u001b[43m[\u001b[49m\u001b[38;5;241;43m3\u001b[39;49m\u001b[43m,\u001b[49m\u001b[38;5;241;43m4\u001b[39;49m\u001b[43m]\u001b[49m\u001b[43m,\u001b[49m\u001b[43m \u001b[49m\u001b[43m[\u001b[49m\u001b[38;5;241;43m5\u001b[39;49m\u001b[43m,\u001b[49m\u001b[38;5;241;43m6\u001b[39;49m\u001b[43m]\u001b[49m\u001b[43m]\u001b[49m\u001b[43m)\u001b[49m\n\u001b[0;32m      4\u001b[0m \u001b[38;5;28mprint\u001b[39m (ar3)\n\u001b[0;32m      5\u001b[0m \u001b[38;5;28mprint\u001b[39m (\u001b[38;5;28mtype\u001b[39m(ar3))\n",
      "\u001b[1;31mTypeError\u001b[0m: an integer is required (got type list)"
     ]
    }
   ],
   "source": [
    "import array as tdr\n",
    "#ar3 = tdr.array (\"i\", td) # error\n",
    "ar3 = tdr.array (\"i\", [[3,4], [5,6]])\n",
    "print (ar3)\n",
    "print (type(ar3))"
   ]
  },
  {
   "cell_type": "code",
   "execution_count": 8,
   "id": "e9c8ff74",
   "metadata": {},
   "outputs": [
    {
     "name": "stdout",
     "output_type": "stream",
     "text": [
      "[[1 2 3]\n",
      " [4 5 6]\n",
      " [7 8 9]]\n",
      "<class 'numpy.ndarray'>\n"
     ]
    }
   ],
   "source": [
    "import numpy as tdr\n",
    "ar3 = tdr.array (td) #data type mode is not required\n",
    "#ar3 = tdr.array (\"i\", [[3,4], [5,6]])\n",
    "print (ar3)\n",
    "print (type(ar3))"
   ]
  },
  {
   "cell_type": "code",
   "execution_count": 9,
   "id": "8800a124",
   "metadata": {},
   "outputs": [],
   "source": [
    "# 1-D = array method from array module = no problem\n",
    "# 2-D = array method from array module = error\n",
    "# 2-D = list inside another list = possible to use \n",
    "# 2-D = array method from numpy module = possible to use = ndarray (n-dimension array)\n"
   ]
  },
  {
   "cell_type": "code",
   "execution_count": 1,
   "id": "40783db6",
   "metadata": {},
   "outputs": [
    {
     "name": "stdout",
     "output_type": "stream",
     "text": [
      "[[4, 6, 8, 9], [7, 8, 2, 3], [9, 1, 7, 5]]\n",
      "[[6, 8, 2, 9], [1, 7, 4, 8], [7, 3, 3, 0]]\n",
      "[[4, 6, 8, 9], [7, 8, 2, 3], [9, 1, 7, 5], [6, 8, 2, 9], [1, 7, 4, 8], [7, 3, 3, 0]]\n",
      "[[4 6 8 9]\n",
      " [7 8 2 3]\n",
      " [9 1 7 5]]\n",
      "3\n",
      "[[6 8 2 9]\n",
      " [1 7 4 8]\n",
      " [7 3 3 0]]\n",
      "[[10 14 10 18]\n",
      " [ 8 15  6 11]\n",
      " [16  4 10  5]]\n"
     ]
    }
   ],
   "source": [
    "# WAP to create two matrices and print those.\n",
    "first = [[4,6,8,9], [7,8,2,3], [9,1,7,5]]\n",
    "second = [[6,8,2,9], [1,7,4,8], [7,3,3,0]]\n",
    "print (first)\n",
    "print (second)\n",
    "print (first + second)\n",
    "\n",
    "import numpy as vsk\n",
    "far = vsk.array (first)\n",
    "sar = vsk.array (second)\n",
    "print (far)\n",
    "print (len(far))\n",
    "print (sar)\n",
    "print (far + sar)"
   ]
  },
  {
   "cell_type": "code",
   "execution_count": 4,
   "id": "79470886",
   "metadata": {},
   "outputs": [
    {
     "name": "stdout",
     "output_type": "stream",
     "text": [
      "\n",
      "\n",
      "\n",
      "\n",
      "\n",
      "\n",
      "[[10 14 10 18]\n",
      " [ 8 15  6 11]\n",
      " [16  4 10  5]]\n"
     ]
    }
   ],
   "source": [
    "# addition of first and second array named by far and sar\n",
    "res = [[0,0,0,0], [0,0,0,0], [0,0,0,0]]\n",
    "add = vsk.array (res)\n",
    "for i in range (3): # total 3 rows\n",
    "    for j in range (4):  # total 4 columns\n",
    "        #print (i , j)\n",
    "        add[i][j] = far[i][j] + sar[i][j]\n",
    "        #print (far[i][j] + sar[i][j], end = \" \")\n",
    "    print (\"\\n\")\n",
    "print (add)"
   ]
  },
  {
   "cell_type": "code",
   "execution_count": 31,
   "id": "be41033e",
   "metadata": {},
   "outputs": [
    {
     "name": "stdout",
     "output_type": "stream",
     "text": [
      "14\n",
      "[ 2  3  4  7 12  1  9 23 45 67 21  9  3  4]\n"
     ]
    }
   ],
   "source": [
    "# Partitioning of an array by using numpy library\n",
    "import numpy as vsk\n",
    "in_arr = vsk.array([2,3,4,7,12,1,9,23,45,67,21,9,3,4])\n",
    "print (len(in_arr))\n",
    "print (in_arr)"
   ]
  },
  {
   "cell_type": "code",
   "execution_count": 35,
   "id": "4532e3eb",
   "metadata": {},
   "outputs": [
    {
     "name": "stdout",
     "output_type": "stream",
     "text": [
      "[12 10 20 30 22 24 26 12 27 10 54]\n",
      "<class 'numpy.ndarray'>\n",
      "11\n",
      "[12 12 20 10 22 10 24 26 27 30 54]\n"
     ]
    }
   ],
   "source": [
    "import numpy as p\n",
    "m = p.array ([12, 10, 20, 30, 22, 24, 26, 12, 27, 10, 54])\n",
    "print (m)\n",
    "print (type (m))\n",
    "print (len (m))\n",
    "res = p.partition (m, 7)\n",
    "print (res)"
   ]
  },
  {
   "cell_type": "code",
   "execution_count": 14,
   "id": "1c26216c",
   "metadata": {},
   "outputs": [
    {
     "name": "stdout",
     "output_type": "stream",
     "text": [
      "[[114, 160, 60, 27], [74, 97, 73, 14], [119, 157, 112, 23]]\n"
     ]
    }
   ],
   "source": [
    "# Program to multiply two matrices using nested loops\n",
    "A = [[12, 7, 3], [4, 5, 6], [7, 8, 9]]\n",
    "B = [[5, 8, 1, 2], [6, 7, 3, 0], [4, 5, 9, 1]]\n",
    "result = [[0, 0, 0, 0], [0, 0, 0, 0], [0, 0, 0, 0]]\n",
    "\n",
    "for i in range(len(A)):\n",
    "    for j in range(len(B[0])):\n",
    "        for k in range(len(B)):\n",
    "            result[i][j] += A[i][k] * B[k][j]\n",
    "print(result)"
   ]
  },
  {
   "cell_type": "code",
   "execution_count": null,
   "id": "c37a4298",
   "metadata": {},
   "outputs": [],
   "source": []
  }
 ],
 "metadata": {
  "kernelspec": {
   "display_name": "Python 3 (ipykernel)",
   "language": "python",
   "name": "python3"
  },
  "language_info": {
   "codemirror_mode": {
    "name": "ipython",
    "version": 3
   },
   "file_extension": ".py",
   "mimetype": "text/x-python",
   "name": "python",
   "nbconvert_exporter": "python",
   "pygments_lexer": "ipython3",
   "version": "3.9.12"
  }
 },
 "nbformat": 4,
 "nbformat_minor": 5
}
